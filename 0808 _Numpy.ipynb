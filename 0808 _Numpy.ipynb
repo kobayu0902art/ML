{
 "cells": [
  {
   "cell_type": "markdown",
   "metadata": {},
   "source": [
    "# イントロダクション\n",
    "--------------------------------------------------------------"
   ]
  },
  {
   "cell_type": "markdown",
   "metadata": {},
   "source": [
    "# Pandasを使ったcsv読み込みの例"
   ]
  },
  {
   "cell_type": "code",
   "execution_count": 3,
   "metadata": {},
   "outputs": [
    {
     "data": {
      "text/html": [
       "<div>\n",
       "<style scoped>\n",
       "    .dataframe tbody tr th:only-of-type {\n",
       "        vertical-align: middle;\n",
       "    }\n",
       "\n",
       "    .dataframe tbody tr th {\n",
       "        vertical-align: top;\n",
       "    }\n",
       "\n",
       "    .dataframe thead th {\n",
       "        text-align: right;\n",
       "    }\n",
       "</style>\n",
       "<table border=\"1\" class=\"dataframe\">\n",
       "  <thead>\n",
       "    <tr style=\"text-align: right;\">\n",
       "      <th></th>\n",
       "      <th>CreationDate</th>\n",
       "      <th>UserIds</th>\n",
       "      <th>Operations</th>\n",
       "      <th>AuditData</th>\n",
       "    </tr>\n",
       "  </thead>\n",
       "  <tbody>\n",
       "    <tr>\n",
       "      <td>0</td>\n",
       "      <td>2020-08-03T05:57:22.0000000Z</td>\n",
       "      <td>arq-member@androbotics.onmicrosoft.com</td>\n",
       "      <td>UserLoggedIn</td>\n",
       "      <td>{\"CreationTime\":\"2020-08-03T05:57:22\",\"Id\":\"35...</td>\n",
       "    </tr>\n",
       "    <tr>\n",
       "      <td>1</td>\n",
       "      <td>2020-08-03T06:04:17.0000000Z</td>\n",
       "      <td>arn-member@androbotics.onmicrosoft.com</td>\n",
       "      <td>UserLoggedIn</td>\n",
       "      <td>{\"CreationTime\":\"2020-08-03T06:04:17\",\"Id\":\"4e...</td>\n",
       "    </tr>\n",
       "    <tr>\n",
       "      <td>2</td>\n",
       "      <td>2020-08-03T06:04:17.0000000Z</td>\n",
       "      <td>arn-member@androbotics.onmicrosoft.com</td>\n",
       "      <td>UserLoggedIn</td>\n",
       "      <td>{\"CreationTime\":\"2020-08-03T06:04:17\",\"Id\":\"9e...</td>\n",
       "    </tr>\n",
       "    <tr>\n",
       "      <td>3</td>\n",
       "      <td>2020-08-03T06:19:47.0000000Z</td>\n",
       "      <td>s.ida@ml.androbo.co.jp</td>\n",
       "      <td>FileSyncUploadedFull</td>\n",
       "      <td>{\"CreationTime\":\"2020-08-03T06:19:47\",\"Id\":\"f0...</td>\n",
       "    </tr>\n",
       "    <tr>\n",
       "      <td>4</td>\n",
       "      <td>2020-08-03T06:19:58.0000000Z</td>\n",
       "      <td>s.ida@ml.androbo.co.jp</td>\n",
       "      <td>FileRenamed</td>\n",
       "      <td>{\"CreationTime\":\"2020-08-03T06:19:58\",\"Id\":\"7c...</td>\n",
       "    </tr>\n",
       "    <tr>\n",
       "      <td>...</td>\n",
       "      <td>...</td>\n",
       "      <td>...</td>\n",
       "      <td>...</td>\n",
       "      <td>...</td>\n",
       "    </tr>\n",
       "    <tr>\n",
       "      <td>30821</td>\n",
       "      <td>2020-07-28T22:49:03.0000000Z</td>\n",
       "      <td>aro-member@androbotics.onmicrosoft.com</td>\n",
       "      <td>CompanyLinkUsed</td>\n",
       "      <td>{\"CreationTime\":\"2020-07-28T22:49:03\",\"Id\":\"d7...</td>\n",
       "    </tr>\n",
       "    <tr>\n",
       "      <td>30822</td>\n",
       "      <td>2020-07-28T22:49:03.0000000Z</td>\n",
       "      <td>aro-member@androbotics.onmicrosoft.com</td>\n",
       "      <td>FileAccessed</td>\n",
       "      <td>{\"CreationTime\":\"2020-07-28T22:49:03\",\"Id\":\"62...</td>\n",
       "    </tr>\n",
       "    <tr>\n",
       "      <td>30823</td>\n",
       "      <td>2020-07-28T15:20:15.0000000Z</td>\n",
       "      <td>app@sharepoint</td>\n",
       "      <td>FileAccessed</td>\n",
       "      <td>{\"CreationTime\":\"2020-07-28T15:20:15\",\"Id\":\"6c...</td>\n",
       "    </tr>\n",
       "    <tr>\n",
       "      <td>30824</td>\n",
       "      <td>2020-07-28T15:26:36.0000000Z</td>\n",
       "      <td>app@sharepoint</td>\n",
       "      <td>FileAccessed</td>\n",
       "      <td>{\"CreationTime\":\"2020-07-28T15:26:36\",\"Id\":\"f7...</td>\n",
       "    </tr>\n",
       "    <tr>\n",
       "      <td>30825</td>\n",
       "      <td>2020-07-28T15:28:21.0000000Z</td>\n",
       "      <td>app@sharepoint</td>\n",
       "      <td>FileAccessed</td>\n",
       "      <td>{\"CreationTime\":\"2020-07-28T15:28:21\",\"Id\":\"67...</td>\n",
       "    </tr>\n",
       "  </tbody>\n",
       "</table>\n",
       "<p>30826 rows × 4 columns</p>\n",
       "</div>"
      ],
      "text/plain": [
       "                       CreationDate                                 UserIds  \\\n",
       "0      2020-08-03T05:57:22.0000000Z  arq-member@androbotics.onmicrosoft.com   \n",
       "1      2020-08-03T06:04:17.0000000Z  arn-member@androbotics.onmicrosoft.com   \n",
       "2      2020-08-03T06:04:17.0000000Z  arn-member@androbotics.onmicrosoft.com   \n",
       "3      2020-08-03T06:19:47.0000000Z                  s.ida@ml.androbo.co.jp   \n",
       "4      2020-08-03T06:19:58.0000000Z                  s.ida@ml.androbo.co.jp   \n",
       "...                             ...                                     ...   \n",
       "30821  2020-07-28T22:49:03.0000000Z  aro-member@androbotics.onmicrosoft.com   \n",
       "30822  2020-07-28T22:49:03.0000000Z  aro-member@androbotics.onmicrosoft.com   \n",
       "30823  2020-07-28T15:20:15.0000000Z                          app@sharepoint   \n",
       "30824  2020-07-28T15:26:36.0000000Z                          app@sharepoint   \n",
       "30825  2020-07-28T15:28:21.0000000Z                          app@sharepoint   \n",
       "\n",
       "                 Operations                                          AuditData  \n",
       "0              UserLoggedIn  {\"CreationTime\":\"2020-08-03T05:57:22\",\"Id\":\"35...  \n",
       "1              UserLoggedIn  {\"CreationTime\":\"2020-08-03T06:04:17\",\"Id\":\"4e...  \n",
       "2              UserLoggedIn  {\"CreationTime\":\"2020-08-03T06:04:17\",\"Id\":\"9e...  \n",
       "3      FileSyncUploadedFull  {\"CreationTime\":\"2020-08-03T06:19:47\",\"Id\":\"f0...  \n",
       "4               FileRenamed  {\"CreationTime\":\"2020-08-03T06:19:58\",\"Id\":\"7c...  \n",
       "...                     ...                                                ...  \n",
       "30821       CompanyLinkUsed  {\"CreationTime\":\"2020-07-28T22:49:03\",\"Id\":\"d7...  \n",
       "30822          FileAccessed  {\"CreationTime\":\"2020-07-28T22:49:03\",\"Id\":\"62...  \n",
       "30823          FileAccessed  {\"CreationTime\":\"2020-07-28T15:20:15\",\"Id\":\"6c...  \n",
       "30824          FileAccessed  {\"CreationTime\":\"2020-07-28T15:26:36\",\"Id\":\"f7...  \n",
       "30825          FileAccessed  {\"CreationTime\":\"2020-07-28T15:28:21\",\"Id\":\"67...  \n",
       "\n",
       "[30826 rows x 4 columns]"
      ]
     },
     "execution_count": 3,
     "metadata": {},
     "output_type": "execute_result"
    }
   ],
   "source": [
    "import pandas as pd\n",
    "df = pd.read_csv(\"AuditLog_2020-07-28_2020-08-03.csv\")\n",
    "df"
   ]
  },
  {
   "cell_type": "markdown",
   "metadata": {},
   "source": [
    "# pandasでできる操作の例"
   ]
  },
  {
   "cell_type": "markdown",
   "metadata": {},
   "source": [
    "### 列名を用いて特定の列のみ抜き出す"
   ]
  },
  {
   "cell_type": "code",
   "execution_count": 7,
   "metadata": {},
   "outputs": [
    {
     "data": {
      "text/plain": [
       "0        arq-member@androbotics.onmicrosoft.com\n",
       "1        arn-member@androbotics.onmicrosoft.com\n",
       "2        arn-member@androbotics.onmicrosoft.com\n",
       "3                        s.ida@ml.androbo.co.jp\n",
       "4                        s.ida@ml.androbo.co.jp\n",
       "                          ...                  \n",
       "30821    aro-member@androbotics.onmicrosoft.com\n",
       "30822    aro-member@androbotics.onmicrosoft.com\n",
       "30823                            app@sharepoint\n",
       "30824                            app@sharepoint\n",
       "30825                            app@sharepoint\n",
       "Name: UserIds, Length: 30826, dtype: object"
      ]
     },
     "execution_count": 7,
     "metadata": {},
     "output_type": "execute_result"
    }
   ],
   "source": [
    "df[\"UserIds\"]"
   ]
  },
  {
   "cell_type": "markdown",
   "metadata": {},
   "source": [
    "### 列の要素の列挙"
   ]
  },
  {
   "cell_type": "code",
   "execution_count": 12,
   "metadata": {},
   "outputs": [
    {
     "data": {
      "text/plain": [
       "array(['UserLoggedIn', 'FileSyncUploadedFull', 'FileRenamed',\n",
       "       'FileAccessed', 'FileModifiedExtended', 'FileModified',\n",
       "       'FilePreviewed', 'FileMoved', 'FileAccessedExtended',\n",
       "       'Update device.', 'FolderCreated', 'PageViewed', 'FolderDeleted',\n",
       "       'AnonymousLinkUsed', 'ListViewed', 'FileDeleted',\n",
       "       'CompanyLinkUsed', 'SharingSet', 'AddedToGroup',\n",
       "       'CompanyLinkCreated', 'Get-CsTeamsClientConfiguration',\n",
       "       'GroupAdded', 'SharingInheritanceBroken', 'FileUploaded',\n",
       "       'FileDownloaded', 'PagePrefetched', 'PageViewedExtended',\n",
       "       'FileSyncDownloadedFull', 'Update', 'SoftDelete',\n",
       "       'TeamsSessionStarted', 'MoveToDeletedItems', 'Add user.',\n",
       "       'UserLoginFailed', 'ViewResponses', 'ListForms', 'ViewForm',\n",
       "       'HardDelete', 'ModifyFolderPermissions', 'FolderMoved', 'Set-User',\n",
       "       'Add member to group.', 'FolderRenamed', 'MemberAdded',\n",
       "       'ListCreated', 'Update user.', 'Remove member from group.',\n",
       "       'UpdateInboxRules', 'FolderCopied', 'Change user password.',\n",
       "       'Update StsRefreshTokenValidFrom Timestamp.', 'MemberRemoved',\n",
       "       'ListUpdated', 'PermissionLevelAdded', 'Set-Mailbox',\n",
       "       'SiteCollectionCreated', 'SiteCollectionAdminAdded',\n",
       "       'SiteCollectionAdminRemoved', 'FileCopied', 'Update group.',\n",
       "       'Add registered users to device.', 'Add device.',\n",
       "       'Add registered owner to device.', 'Add group.',\n",
       "       'Add owner to group.', 'Create', 'SearchAlert',\n",
       "       'SearchDomainTrafficStatus', 'SearchCustomerInsight',\n",
       "       'SearchDomainMxRecord', 'SearchDataInsightsSubscription',\n",
       "       'FolderModified', 'ListColumnCreated', 'AnonymousLinkCreated',\n",
       "       'CreateResponse', 'SearchQueryPerformed', 'ViewRuntimeForm',\n",
       "       'EditForm', 'AccessRequestRejected', 'TeamCreated',\n",
       "       'ListColumnUpdated', 'UpdateFormSetting', 'MailItemsAccessed',\n",
       "       'Change user license.', 'Set-UnifiedGroup',\n",
       "       'Set-TenantObjectVersion', 'Install-AdminAuditLogConfig',\n",
       "       'Set-AdminAuditLogConfig', 'Set-TransportConfig',\n",
       "       'Add-MailboxPermission', 'Set-ExchangeAssistanceConfig',\n",
       "       'New-ExchangeAssistanceConfig',\n",
       "       'Set-RecipientEnforcementProvisioningPolicy',\n",
       "       'Set-OwaMailboxPolicy', 'AccessRequestCreated',\n",
       "       'Install-ResourceConfig', 'Install-DataClassificationConfig',\n",
       "       'Enable-AddressListPaging', 'Install-DefaultSharingPolicy',\n",
       "       'AddFormCoauthor', 'AllowShareFormForCopy', 'ExportForm',\n",
       "       'MemberRoleChanged', 'Remove-App', 'New-Mailbox', 'CreateForm',\n",
       "       'Delete user.', 'Disable account.', 'Remove-Mailbox',\n",
       "       'AddFolderPermissions', 'Add service principal.',\n",
       "       'ClientViewSignaled', 'LaunchPowerApp', 'RemovedFromGroup',\n",
       "       'SearchAlertAggregate', 'SearchMtpStatus', 'WACTokenShared',\n",
       "       'ConnectorAdded'], dtype=object)"
      ]
     },
     "execution_count": 12,
     "metadata": {},
     "output_type": "execute_result"
    }
   ],
   "source": [
    "df[\"Operations\"].unique()"
   ]
  },
  {
   "cell_type": "markdown",
   "metadata": {},
   "source": [
    "---------------\n",
    "# 本編"
   ]
  },
  {
   "cell_type": "markdown",
   "metadata": {},
   "source": [
    "# モジュールのインポート\n",
    "\n",
    "ライブラリが正しくインストールできているか確認する\n",
    "\n",
    "正常にインポートできれば、numpy,pandasともにインストールできている"
   ]
  },
  {
   "cell_type": "code",
   "execution_count": 6,
   "metadata": {},
   "outputs": [],
   "source": [
    "import pandas as pd\n",
    "import numpy as np"
   ]
  },
  {
   "cell_type": "markdown",
   "metadata": {},
   "source": [
    "これから機械学習を学んでいく上で\n",
    "\n",
    "・スカラー\n",
    "・ベクトル\n",
    "・行列\n",
    "\n",
    "という表現を使うことが多くなってくるので、その考え方と、\n",
    "\n",
    "Pythonでこれらを使いたいときにはどうすればよいかを身に付けていく。"
   ]
  },
  {
   "cell_type": "markdown",
   "metadata": {},
   "source": [
    "# スカラー"
   ]
  },
  {
   "cell_type": "code",
   "execution_count": null,
   "metadata": {},
   "outputs": [],
   "source": [
    "1　[1]"
   ]
  },
  {
   "cell_type": "markdown",
   "metadata": {},
   "source": [
    "数値や定数など\"数\"\n",
    "\n",
    "pythonで扱うときも特別な表記をする必要はない"
   ]
  },
  {
   "cell_type": "markdown",
   "metadata": {},
   "source": [
    "# ベクトル"
   ]
  },
  {
   "cell_type": "markdown",
   "metadata": {},
   "source": [
    "\\\\[A = \\left(\n",
    "    \\begin{array}{c}\n",
    "      a_1,\n",
    "      a_2,\n",
    "      \\dots \n",
    "      a_n,\n",
    "    \\end{array}\n",
    "  \\right)\\\\]"
   ]
  },
  {
   "cell_type": "markdown",
   "metadata": {},
   "source": [
    "1行n列の行列とみることもできる"
   ]
  },
  {
   "cell_type": "markdown",
   "metadata": {},
   "source": [
    "\\\\[A^{\\mathrm{T}} = \\left(\n",
    "    \\begin{array}{c}\n",
    "      a_1 \\\\\n",
    "      a_2 \\\\\n",
    "      \\vdots \\\\\n",
    "      a_n\n",
    "    \\end{array}\n",
    "  \\right)\\\\]"
   ]
  },
  {
   "cell_type": "markdown",
   "metadata": {},
   "source": [
    "Aの転置行列\n",
    "\n",
    "n行1列の行列とみることもできる"
   ]
  },
  {
   "cell_type": "code",
   "execution_count": null,
   "metadata": {},
   "outputs": [],
   "source": [
    "A = [1,2,3,4,5]"
   ]
  },
  {
   "cell_type": "markdown",
   "metadata": {},
   "source": [
    "# 行列"
   ]
  },
  {
   "cell_type": "markdown",
   "metadata": {},
   "source": [
    "numpyを使わない行列表現"
   ]
  },
  {
   "cell_type": "code",
   "execution_count": 3,
   "metadata": {},
   "outputs": [],
   "source": [
    "d = [\n",
    "    [1,2,3,4,5],\n",
    "    [5,7,9,8,0],\n",
    "    [4,9,7,8,9]\n",
    "    ]\n",
    "\n",
    "e = [\n",
    "    [1,5,4,5,9],\n",
    "    [2,7,9,7,6],\n",
    "    [3,9,7,4,7]\n",
    "    ]"
   ]
  },
  {
   "cell_type": "markdown",
   "metadata": {},
   "source": [
    "\\\\[A = \\left(\n",
    "    \\begin{array}{c}\n",
    "      a_{1,1},a_{1,2},a_{1,3},\\dots,a_{1,n} \\\\\n",
    "      a_{2,1},a_{2,2},a_{2,3},\\dots,a_{2,n} \\\\\n",
    "      \\vdots \\\\\n",
    "      a_{n,1},a_{n,2},a_{n,3},\\dots,a_{n,n}\n",
    "    \\end{array}\n",
    "  \\right)\\\\]"
   ]
  },
  {
   "cell_type": "markdown",
   "metadata": {},
   "source": [
    "n行n列の行列"
   ]
  },
  {
   "cell_type": "markdown",
   "metadata": {},
   "source": [
    "### 行列の要素どうしのかけ算"
   ]
  },
  {
   "cell_type": "code",
   "execution_count": 4,
   "metadata": {},
   "outputs": [
    {
     "ename": "TypeError",
     "evalue": "can't multiply sequence by non-int of type 'list'",
     "output_type": "error",
     "traceback": [
      "\u001b[1;31m---------------------------------------------------------------------------\u001b[0m",
      "\u001b[1;31mTypeError\u001b[0m                                 Traceback (most recent call last)",
      "\u001b[1;32m<ipython-input-4-7ae455585254>\u001b[0m in \u001b[0;36m<module>\u001b[1;34m\u001b[0m\n\u001b[1;32m----> 1\u001b[1;33m \u001b[0md\u001b[0m\u001b[1;33m*\u001b[0m\u001b[0me\u001b[0m\u001b[1;33m\u001b[0m\u001b[1;33m\u001b[0m\u001b[0m\n\u001b[0m",
      "\u001b[1;31mTypeError\u001b[0m: can't multiply sequence by non-int of type 'list'"
     ]
    }
   ],
   "source": [
    "d*e"
   ]
  },
  {
   "cell_type": "markdown",
   "metadata": {},
   "source": [
    "これではリストとリストのかけ算になってしまい、エラーになってしまう"
   ]
  },
  {
   "cell_type": "markdown",
   "metadata": {},
   "source": [
    "### 要素それぞれを2倍したい場合"
   ]
  },
  {
   "cell_type": "code",
   "execution_count": 23,
   "metadata": {},
   "outputs": [
    {
     "data": {
      "text/plain": [
       "[[1, 2, 3, 4, 5],\n",
       " [5, 7, 9, 8, 0],\n",
       " [4, 9, 7, 8, 9],\n",
       " [1, 2, 3, 4, 5],\n",
       " [5, 7, 9, 8, 0],\n",
       " [4, 9, 7, 8, 9]]"
      ]
     },
     "execution_count": 23,
     "metadata": {},
     "output_type": "execute_result"
    }
   ],
   "source": [
    "d*2"
   ]
  },
  {
   "cell_type": "markdown",
   "metadata": {},
   "source": [
    "これもリストそのものへの操作となってしまい、\n",
    "dの後ろにdが結合しているような形になってしまう。"
   ]
  },
  {
   "cell_type": "markdown",
   "metadata": {},
   "source": [
    "### リストどうしの足し算"
   ]
  },
  {
   "cell_type": "code",
   "execution_count": 18,
   "metadata": {},
   "outputs": [
    {
     "data": {
      "text/plain": [
       "[[1, 2, 3, 4, 5],\n",
       " [5, 7, 9, 8, 0],\n",
       " [4, 9, 7, 8, 9],\n",
       " [1, 5, 4, 5, 9],\n",
       " [2, 7, 9, 7, 6],\n",
       " [3, 9, 7, 4, 7]]"
      ]
     },
     "execution_count": 18,
     "metadata": {},
     "output_type": "execute_result"
    }
   ],
   "source": [
    "d+e"
   ]
  },
  {
   "cell_type": "markdown",
   "metadata": {},
   "source": [
    "これもリストそのものへの操作となってしまい、\n",
    "dの後ろにeが結合しているような形になってしまう。"
   ]
  },
  {
   "cell_type": "markdown",
   "metadata": {},
   "source": [
    "# ではnumpyを使うと...？"
   ]
  },
  {
   "cell_type": "markdown",
   "metadata": {},
   "source": [
    "numpy.array()でndarray型のオブジェクトを定義\n",
    "\n",
    "1行,もしくは1列のndarrayならベクトル、n行n列のndarrayなら行列として操作可能"
   ]
  },
  {
   "cell_type": "code",
   "execution_count": 7,
   "metadata": {},
   "outputs": [
    {
     "data": {
      "text/plain": [
       "array([[1, 2, 3, 4, 5],\n",
       "       [5, 7, 9, 8, 0],\n",
       "       [4, 9, 7, 8, 9]])"
      ]
     },
     "execution_count": 7,
     "metadata": {},
     "output_type": "execute_result"
    }
   ],
   "source": [
    "a = np.array([\n",
    "    [1,2,3,4,5],\n",
    "    [5,7,9,8,0],\n",
    "    [4,9,7,8,9]\n",
    "    ])\n",
    "a"
   ]
  },
  {
   "cell_type": "code",
   "execution_count": 8,
   "metadata": {},
   "outputs": [
    {
     "data": {
      "text/plain": [
       "numpy.ndarray"
      ]
     },
     "execution_count": 8,
     "metadata": {},
     "output_type": "execute_result"
    }
   ],
   "source": [
    "type(a)"
   ]
  },
  {
   "cell_type": "code",
   "execution_count": 8,
   "metadata": {
    "scrolled": true
   },
   "outputs": [
    {
     "data": {
      "text/plain": [
       "(3, 5)"
      ]
     },
     "execution_count": 8,
     "metadata": {},
     "output_type": "execute_result"
    }
   ],
   "source": [
    "np.shape(a)"
   ]
  },
  {
   "cell_type": "markdown",
   "metadata": {},
   "source": [
    "numpy.shapeで行列の(行数,列数)を調べることができる\n",
    "\n",
    "これを用いることで可変行数、可変列数の行列を扱うときでもハードコーディングの必要がない"
   ]
  },
  {
   "cell_type": "markdown",
   "metadata": {},
   "source": [
    "### 転置行列"
   ]
  },
  {
   "cell_type": "markdown",
   "metadata": {},
   "source": [
    "numpy.transpose()で行列を転置させることができる"
   ]
  },
  {
   "cell_type": "code",
   "execution_count": 9,
   "metadata": {
    "scrolled": true
   },
   "outputs": [
    {
     "data": {
      "text/plain": [
       "array([[1, 5, 4],\n",
       "       [2, 7, 9],\n",
       "       [3, 9, 7],\n",
       "       [4, 8, 8],\n",
       "       [5, 0, 9]])"
      ]
     },
     "execution_count": 9,
     "metadata": {},
     "output_type": "execute_result"
    }
   ],
   "source": [
    "np.transpose(a)"
   ]
  },
  {
   "cell_type": "markdown",
   "metadata": {},
   "source": [
    "行列の要素を(1,1)からの対角線に対して行と列を入れ替えたのが転置行列"
   ]
  },
  {
   "cell_type": "code",
   "execution_count": 9,
   "metadata": {},
   "outputs": [],
   "source": [
    "x = 100"
   ]
  },
  {
   "cell_type": "code",
   "execution_count": 10,
   "metadata": {},
   "outputs": [],
   "source": [
    "a = np.array([\n",
    "    [1,2,3,4,5],\n",
    "    [5,7,8,8,0],\n",
    "    [4,9,7,8,9]\n",
    "    ])"
   ]
  },
  {
   "cell_type": "code",
   "execution_count": 12,
   "metadata": {},
   "outputs": [
    {
     "data": {
      "text/plain": [
       "array([[  1,   2,   3,   4,   5],\n",
       "       [  5,   7, 100,   8,   0],\n",
       "       [  4,   9,   7,   8,   9]])"
      ]
     },
     "execution_count": 12,
     "metadata": {},
     "output_type": "execute_result"
    }
   ],
   "source": [
    "a = np.array([\n",
    "    [1,2,3,4,5],\n",
    "    [5,7,x,8,0],\n",
    "    [4,9,7,8,9]\n",
    "    ])\n",
    "a"
   ]
  },
  {
   "cell_type": "markdown",
   "metadata": {},
   "source": [
    "上記のように、変数に格納した値を入れることもできる"
   ]
  },
  {
   "cell_type": "code",
   "execution_count": 13,
   "metadata": {},
   "outputs": [
    {
     "data": {
      "text/plain": [
       "array([[1, 5, 4],\n",
       "       [2, 7, 9],\n",
       "       [3, 9, 7],\n",
       "       [4, 8, 8],\n",
       "       [5, 0, 9]])"
      ]
     },
     "execution_count": 13,
     "metadata": {},
     "output_type": "execute_result"
    }
   ],
   "source": [
    "b = np.array(\n",
    "    [\n",
    "        [1, 5, 4],\n",
    "        [2, 7, 9],\n",
    "        [3, 9, 7],\n",
    "        [4, 8, 8],\n",
    "        [5, 0, 9]\n",
    "    ]\n",
    ")\n",
    "b"
   ]
  },
  {
   "cell_type": "code",
   "execution_count": 14,
   "metadata": {
    "scrolled": true
   },
   "outputs": [
    {
     "ename": "ValueError",
     "evalue": "operands could not be broadcast together with shapes (3,5) (5,3) ",
     "output_type": "error",
     "traceback": [
      "\u001b[1;31m---------------------------------------------------------------------------\u001b[0m",
      "\u001b[1;31mValueError\u001b[0m                                Traceback (most recent call last)",
      "\u001b[1;32m<ipython-input-14-8ce765dcfa30>\u001b[0m in \u001b[0;36m<module>\u001b[1;34m\u001b[0m\n\u001b[1;32m----> 1\u001b[1;33m \u001b[0ma\u001b[0m\u001b[1;33m*\u001b[0m\u001b[0mb\u001b[0m\u001b[1;33m\u001b[0m\u001b[1;33m\u001b[0m\u001b[0m\n\u001b[0m",
      "\u001b[1;31mValueError\u001b[0m: operands could not be broadcast together with shapes (3,5) (5,3) "
     ]
    }
   ],
   "source": [
    "a*b"
   ]
  },
  {
   "cell_type": "markdown",
   "metadata": {},
   "source": [
    "shapeの違う行列の要素同士のかけ算はできない"
   ]
  },
  {
   "cell_type": "code",
   "execution_count": 16,
   "metadata": {},
   "outputs": [
    {
     "data": {
      "text/plain": [
       "(3, 5)"
      ]
     },
     "execution_count": 16,
     "metadata": {},
     "output_type": "execute_result"
    }
   ],
   "source": [
    "c = np.array(\n",
    "    [\n",
    "        [1, 23, 3, 14, 6],\n",
    "        [5, 2, 3, 13, 25],\n",
    "        [6, 3, 11, 24, 6],\n",
    "    ]\n",
    ")\n",
    "np.shape(c)"
   ]
  },
  {
   "cell_type": "code",
   "execution_count": 19,
   "metadata": {},
   "outputs": [
    {
     "data": {
      "text/plain": [
       "array([[  1,   2,   3,   4,   5],\n",
       "       [  5,   7, 100,   8,   0],\n",
       "       [  4,   9,   7,   8,   9]])"
      ]
     },
     "execution_count": 19,
     "metadata": {},
     "output_type": "execute_result"
    }
   ],
   "source": [
    "a"
   ]
  },
  {
   "cell_type": "code",
   "execution_count": 20,
   "metadata": {},
   "outputs": [
    {
     "data": {
      "text/plain": [
       "(3, 5)"
      ]
     },
     "execution_count": 20,
     "metadata": {},
     "output_type": "execute_result"
    }
   ],
   "source": [
    "np.shape(a)"
   ]
  },
  {
   "cell_type": "code",
   "execution_count": 18,
   "metadata": {},
   "outputs": [
    {
     "data": {
      "text/plain": [
       "array([[  1,  46,   9,  56,  30],\n",
       "       [ 25,  14, 300, 104,   0],\n",
       "       [ 24,  27,  77, 192,  54]])"
      ]
     },
     "execution_count": 18,
     "metadata": {},
     "output_type": "execute_result"
    }
   ],
   "source": [
    "a*c"
   ]
  },
  {
   "cell_type": "markdown",
   "metadata": {},
   "source": [
    "## 行列どうしのかけ算"
   ]
  },
  {
   "cell_type": "code",
   "execution_count": 32,
   "metadata": {},
   "outputs": [
    {
     "data": {
      "text/plain": [
       "array([[ 55,  78, 120],\n",
       "       [ 75, 210, 203],\n",
       "       [120, 210, 291]])"
      ]
     },
     "execution_count": 32,
     "metadata": {},
     "output_type": "execute_result"
    }
   ],
   "source": [
    "np.dot(a,b)"
   ]
  },
  {
   "cell_type": "markdown",
   "metadata": {},
   "source": [
    "\\\\[A = \\left(\n",
    "    \\begin{array}{c}\n",
    "      a_{1,1},a_{1,2},a_{1,3},a_{1,4},a_{1,5}\\\\\n",
    "      a_{2,1},a_{2,2},a_{2,3},a_{2,4},a_{2,5}\\\\\n",
    "      a_{3,1},a_{3,2},a_{3,3},a_{3,4},a_{3,5}\\\\\n",
    "    \\end{array}\n",
    "  \\right)\\\\],\n",
    "\\\\[B = \\left(\n",
    "    \\begin{array}{c}\n",
    "      b_{1,1},b_{1,2},b_{1,3}\\\\\n",
    "      b_{2,1},b_{2,2},b_{2,3}\\\\\n",
    "      b_{3,1},b_{3,2},b_{3,3}\\\\\n",
    "      b_{4,1},b_{4,2},b_{4,3}\\\\\n",
    "      b_{5,1},b_{5,2},b_{5,3}\\\\\n",
    "    \\end{array}\n",
    "  \\right)\\\\]\n",
    "  \n",
    "のとき、\n",
    "\\\\[A\\cdot B=\\\\ \\left(\n",
    "    \\begin{array}{c}\n",
    "      a_{1,1}\\times b_{1,1}+a_{1,2}\\times b_{2,1}+a_{1,3}\\times b_{3,1}+a_{1,4}\\times b_{4,1}+a_{1,5}\\times b_{5,1} , \n",
    "      a_{1,1}\\times b_{1,2}+a_{1,2}\\times b_{2,2}+a_{1,3}\\times b_{3,2}+a_{1,4}\\times b_{4,2}+a_{1,5}\\times b_{5,2} , \n",
    "      a_{1,1}\\times b_{1,3}+a_{1,2}\\times b_{2,3}+a_{1,3}\\times b_{3,3}+a_{1,4}\\times b_{4,3}+a_{1,5}\\times b_{5,3} , \\\\\n",
    "      a_{2,1}\\times b_{1,1}+a_{2,2}\\times b_{2,1}+a_{2,3}\\times b_{3,1}+a_{2,4}\\times b_{4,1}+a_{2,5}\\times b_{5,1} , \n",
    "      a_{2,1}\\times b_{1,2}+a_{2,2}\\times b_{2,2}+a_{2,3}\\times b_{3,2}+a_{2,4}\\times b_{4,2}+a_{2,5}\\times b_{5,2} , \n",
    "      a_{2,1}\\times b_{1,3}+a_{2,2}\\times b_{2,3}+a_{2,3}\\times b_{3,3}+a_{2,4}\\times b_{4,3}+a_{2,5}\\times b_{5,3} , \\\\\n",
    "      a_{3,1}\\times b_{1,1}+a_{3,2}\\times b_{2,1}+a_{3,3}\\times b_{3,1}+a_{3,4}\\times b_{4,1}+a_{3,5}\\times b_{5,1} , \n",
    "      a_{3,1}\\times b_{1,2}+a_{3,2}\\times b_{2,2}+a_{3,3}\\times b_{3,2}+a_{3,4}\\times b_{4,2}+a_{3,5}\\times b_{5,2} , \n",
    "      a_{3,1}\\times b_{1,3}+a_{3,2}\\times b_{2,3}+a_{3,3}\\times b_{3,3}+a_{3,4}\\times b_{4,3}+a_{3,5}\\times b_{5,3} , \\\\\n",
    "    \\end{array}\n",
    "  \\right)\\\\]\n",
    "\n",
    "となる。\n",
    "\n",
    "**上記より、行列同士のかけ算ができる条件が\\\\[(m,k)\\cdot(k,n)\\\\]であることが分かり、結果は(m,n)の行列である。**\n",
    "\n",
    "つまり、\n",
    "\n",
    "\\\\[(m,k)\\cdot(k,n)\\\\]\n",
    "\n",
    "の(m,n)要素を求めるときは\n",
    "\n",
    "\\\\[\\sum_{K=1}^{k} (m,K)\\times(K,n)\\\\]"
   ]
  },
  {
   "cell_type": "code",
   "execution_count": 20,
   "metadata": {},
   "outputs": [
    {
     "ename": "ValueError",
     "evalue": "operands could not be broadcast together with shapes (3,5) (5,3) ",
     "output_type": "error",
     "traceback": [
      "\u001b[1;31m---------------------------------------------------------------------------\u001b[0m",
      "\u001b[1;31mValueError\u001b[0m                                Traceback (most recent call last)",
      "\u001b[1;32m<ipython-input-20-bd58363a63fc>\u001b[0m in \u001b[0;36m<module>\u001b[1;34m\u001b[0m\n\u001b[1;32m----> 1\u001b[1;33m \u001b[0ma\u001b[0m \u001b[1;33m+\u001b[0m \u001b[0mb\u001b[0m\u001b[1;33m\u001b[0m\u001b[1;33m\u001b[0m\u001b[0m\n\u001b[0m",
      "\u001b[1;31mValueError\u001b[0m: operands could not be broadcast together with shapes (3,5) (5,3) "
     ]
    }
   ],
   "source": [
    "a + b"
   ]
  },
  {
   "cell_type": "markdown",
   "metadata": {},
   "source": [
    "shapeの違う行列の要素どうしの足し算はできない。"
   ]
  },
  {
   "cell_type": "code",
   "execution_count": 21,
   "metadata": {
    "scrolled": true
   },
   "outputs": [
    {
     "data": {
      "text/plain": [
       "array([[ 2,  7,  7,  9, 14],\n",
       "       [ 7, 14, 18, 15,  6],\n",
       "       [ 7, 18, 14, 12, 16]])"
      ]
     },
     "execution_count": 21,
     "metadata": {},
     "output_type": "execute_result"
    }
   ],
   "source": [
    "d = np.array([\n",
    "    [1,2,3,4,5],\n",
    "    [5,7,9,8,0],\n",
    "    [4,9,7,8,9]\n",
    "    ])\n",
    "\n",
    "e = np.array([\n",
    "    [1,5,4,5,9],\n",
    "    [2,7,9,7,6],\n",
    "    [3,9,7,4,7]\n",
    "    ])\n",
    "d+e"
   ]
  },
  {
   "cell_type": "code",
   "execution_count": 24,
   "metadata": {},
   "outputs": [
    {
     "data": {
      "text/plain": [
       "array([[ 2,  4,  6,  8, 10],\n",
       "       [10, 14, 18, 16,  0],\n",
       "       [ 8, 18, 14, 16, 18]])"
      ]
     },
     "execution_count": 24,
     "metadata": {},
     "output_type": "execute_result"
    }
   ],
   "source": [
    "d = np.array([\n",
    "    [1,2,3,4,5],\n",
    "    [5,7,9,8,0],\n",
    "    [4,9,7,8,9]\n",
    "    ])\n",
    "\n",
    "d*2"
   ]
  },
  {
   "cell_type": "code",
   "execution_count": 22,
   "metadata": {
    "scrolled": true
   },
   "outputs": [
    {
     "data": {
      "text/plain": [
       "array([[ 1, 10, 12, 20, 45],\n",
       "       [10, 49, 81, 56,  0],\n",
       "       [12, 81, 49, 32, 63]])"
      ]
     },
     "execution_count": 22,
     "metadata": {},
     "output_type": "execute_result"
    }
   ],
   "source": [
    "d = np.array([\n",
    "    [1,2,3,4,5],\n",
    "    [5,7,9,8,0],\n",
    "    [4,9,7,8,9]\n",
    "    ])\n",
    "\n",
    "e = np.array([\n",
    "    [1,5,4,5,9],\n",
    "    [2,7,9,7,6],\n",
    "    [3,9,7,4,7]\n",
    "    ])\n",
    "d*e"
   ]
  },
  {
   "cell_type": "markdown",
   "metadata": {},
   "source": [
    "numpyなしではできなかった各要素への演算ができている"
   ]
  },
  {
   "cell_type": "markdown",
   "metadata": {},
   "source": [
    "### 逆行列\n",
    "\n",
    "numpy.linalg.inv()で逆行列を求めることができる\n",
    "\n",
    "*************************************\n",
    "linalg:linear algebra = 線形代数学\n",
    "\n",
    "inv:inverse = 逆\n",
    "*************************************"
   ]
  },
  {
   "cell_type": "code",
   "execution_count": 33,
   "metadata": {},
   "outputs": [
    {
     "ename": "LinAlgError",
     "evalue": "Last 2 dimensions of the array must be square",
     "output_type": "error",
     "traceback": [
      "\u001b[1;31m---------------------------------------------------------------------------\u001b[0m",
      "\u001b[1;31mLinAlgError\u001b[0m                               Traceback (most recent call last)",
      "\u001b[1;32m<ipython-input-33-03ec522e62e6>\u001b[0m in \u001b[0;36m<module>\u001b[1;34m\u001b[0m\n\u001b[0;32m      4\u001b[0m     \u001b[1;33m[\u001b[0m\u001b[1;36m4\u001b[0m\u001b[1;33m,\u001b[0m\u001b[1;36m9\u001b[0m\u001b[1;33m,\u001b[0m\u001b[1;36m7\u001b[0m\u001b[1;33m,\u001b[0m\u001b[1;36m8\u001b[0m\u001b[1;33m,\u001b[0m\u001b[1;36m9\u001b[0m\u001b[1;33m]\u001b[0m\u001b[1;33m\u001b[0m\u001b[1;33m\u001b[0m\u001b[0m\n\u001b[0;32m      5\u001b[0m     ])\n\u001b[1;32m----> 6\u001b[1;33m \u001b[0mnp\u001b[0m\u001b[1;33m.\u001b[0m\u001b[0mlinalg\u001b[0m\u001b[1;33m.\u001b[0m\u001b[0minv\u001b[0m\u001b[1;33m(\u001b[0m\u001b[0md\u001b[0m\u001b[1;33m)\u001b[0m\u001b[1;33m\u001b[0m\u001b[1;33m\u001b[0m\u001b[0m\n\u001b[0m",
      "\u001b[1;32m~\\Anaconda3\\lib\\site-packages\\numpy\\linalg\\linalg.py\u001b[0m in \u001b[0;36minv\u001b[1;34m(a)\u001b[0m\n\u001b[0;32m    544\u001b[0m     \u001b[0ma\u001b[0m\u001b[1;33m,\u001b[0m \u001b[0mwrap\u001b[0m \u001b[1;33m=\u001b[0m \u001b[0m_makearray\u001b[0m\u001b[1;33m(\u001b[0m\u001b[0ma\u001b[0m\u001b[1;33m)\u001b[0m\u001b[1;33m\u001b[0m\u001b[1;33m\u001b[0m\u001b[0m\n\u001b[0;32m    545\u001b[0m     \u001b[0m_assertRankAtLeast2\u001b[0m\u001b[1;33m(\u001b[0m\u001b[0ma\u001b[0m\u001b[1;33m)\u001b[0m\u001b[1;33m\u001b[0m\u001b[1;33m\u001b[0m\u001b[0m\n\u001b[1;32m--> 546\u001b[1;33m     \u001b[0m_assertNdSquareness\u001b[0m\u001b[1;33m(\u001b[0m\u001b[0ma\u001b[0m\u001b[1;33m)\u001b[0m\u001b[1;33m\u001b[0m\u001b[1;33m\u001b[0m\u001b[0m\n\u001b[0m\u001b[0;32m    547\u001b[0m     \u001b[0mt\u001b[0m\u001b[1;33m,\u001b[0m \u001b[0mresult_t\u001b[0m \u001b[1;33m=\u001b[0m \u001b[0m_commonType\u001b[0m\u001b[1;33m(\u001b[0m\u001b[0ma\u001b[0m\u001b[1;33m)\u001b[0m\u001b[1;33m\u001b[0m\u001b[1;33m\u001b[0m\u001b[0m\n\u001b[0;32m    548\u001b[0m \u001b[1;33m\u001b[0m\u001b[0m\n",
      "\u001b[1;32m~\\Anaconda3\\lib\\site-packages\\numpy\\linalg\\linalg.py\u001b[0m in \u001b[0;36m_assertNdSquareness\u001b[1;34m(*arrays)\u001b[0m\n\u001b[0;32m    211\u001b[0m         \u001b[0mm\u001b[0m\u001b[1;33m,\u001b[0m \u001b[0mn\u001b[0m \u001b[1;33m=\u001b[0m \u001b[0ma\u001b[0m\u001b[1;33m.\u001b[0m\u001b[0mshape\u001b[0m\u001b[1;33m[\u001b[0m\u001b[1;33m-\u001b[0m\u001b[1;36m2\u001b[0m\u001b[1;33m:\u001b[0m\u001b[1;33m]\u001b[0m\u001b[1;33m\u001b[0m\u001b[1;33m\u001b[0m\u001b[0m\n\u001b[0;32m    212\u001b[0m         \u001b[1;32mif\u001b[0m \u001b[0mm\u001b[0m \u001b[1;33m!=\u001b[0m \u001b[0mn\u001b[0m\u001b[1;33m:\u001b[0m\u001b[1;33m\u001b[0m\u001b[1;33m\u001b[0m\u001b[0m\n\u001b[1;32m--> 213\u001b[1;33m             \u001b[1;32mraise\u001b[0m \u001b[0mLinAlgError\u001b[0m\u001b[1;33m(\u001b[0m\u001b[1;34m'Last 2 dimensions of the array must be square'\u001b[0m\u001b[1;33m)\u001b[0m\u001b[1;33m\u001b[0m\u001b[1;33m\u001b[0m\u001b[0m\n\u001b[0m\u001b[0;32m    214\u001b[0m \u001b[1;33m\u001b[0m\u001b[0m\n\u001b[0;32m    215\u001b[0m \u001b[1;32mdef\u001b[0m \u001b[0m_assertFinite\u001b[0m\u001b[1;33m(\u001b[0m\u001b[1;33m*\u001b[0m\u001b[0marrays\u001b[0m\u001b[1;33m)\u001b[0m\u001b[1;33m:\u001b[0m\u001b[1;33m\u001b[0m\u001b[1;33m\u001b[0m\u001b[0m\n",
      "\u001b[1;31mLinAlgError\u001b[0m: Last 2 dimensions of the array must be square"
     ]
    }
   ],
   "source": [
    "d = np.array([\n",
    "    [1,2,3,4,5],\n",
    "    [5,7,9,8,0],\n",
    "    [4,9,7,8,9]\n",
    "    ])\n",
    "np.linalg.inv(d)"
   ]
  },
  {
   "cell_type": "markdown",
   "metadata": {},
   "source": [
    "Aに逆行列が存在する　⇔　行列式|A|が0ではない=Aが正則行列である"
   ]
  },
  {
   "cell_type": "code",
   "execution_count": 25,
   "metadata": {},
   "outputs": [
    {
     "data": {
      "text/plain": [
       "array([[ 3, -5],\n",
       "       [-1,  2]])"
      ]
     },
     "execution_count": 25,
     "metadata": {},
     "output_type": "execute_result"
    }
   ],
   "source": [
    "f = np.array([[ 3, -5],\n",
    "              [-1,  2]])\n",
    "f"
   ]
  },
  {
   "cell_type": "markdown",
   "metadata": {},
   "source": [
    "## 行列式\n",
    "numpy.linalg.det()\n",
    "\n",
    "det:determinant"
   ]
  },
  {
   "cell_type": "code",
   "execution_count": 26,
   "metadata": {},
   "outputs": [
    {
     "data": {
      "text/plain": [
       "1.0000000000000004"
      ]
     },
     "execution_count": 26,
     "metadata": {},
     "output_type": "execute_result"
    }
   ],
   "source": [
    "np.linalg.det(f)"
   ]
  },
  {
   "cell_type": "markdown",
   "metadata": {},
   "source": [
    "### 正則な行列で逆行列を求める"
   ]
  },
  {
   "cell_type": "code",
   "execution_count": 40,
   "metadata": {},
   "outputs": [
    {
     "data": {
      "text/plain": [
       "array([[2., 5.],\n",
       "       [1., 3.]])"
      ]
     },
     "execution_count": 40,
     "metadata": {},
     "output_type": "execute_result"
    }
   ],
   "source": [
    "f_inv = np.linalg.inv(f)\n",
    "f_inv"
   ]
  },
  {
   "cell_type": "markdown",
   "metadata": {},
   "source": [
    "### 行列とその逆行列をかけ算すると...？"
   ]
  },
  {
   "cell_type": "code",
   "execution_count": 41,
   "metadata": {},
   "outputs": [
    {
     "data": {
      "text/plain": [
       "array([[1., 0.],\n",
       "       [0., 1.]])"
      ]
     },
     "execution_count": 41,
     "metadata": {},
     "output_type": "execute_result"
    }
   ],
   "source": [
    "np.dot(f,f_inv)"
   ]
  },
  {
   "cell_type": "markdown",
   "metadata": {},
   "source": [
    "# 単位行列\n",
    "対角線の要素が1でそれ以外が0"
   ]
  },
  {
   "cell_type": "code",
   "execution_count": 42,
   "metadata": {},
   "outputs": [
    {
     "data": {
      "text/plain": [
       "array([[1, 0, 0, 0, 0],\n",
       "       [0, 1, 0, 0, 0],\n",
       "       [0, 0, 1, 0, 0],\n",
       "       [0, 0, 0, 1, 0],\n",
       "       [0, 0, 0, 0, 1]])"
      ]
     },
     "execution_count": 42,
     "metadata": {},
     "output_type": "execute_result"
    }
   ],
   "source": [
    "aaa = np.array([\n",
    "    [1,0,0,0,0],\n",
    "    [0,1,0,0,0],\n",
    "    [0,0,1,0,0],\n",
    "    [0,0,0,1,0],\n",
    "    [0,0,0,0,1]\n",
    "])\n",
    "aaa"
   ]
  },
  {
   "cell_type": "code",
   "execution_count": 43,
   "metadata": {},
   "outputs": [
    {
     "data": {
      "text/plain": [
       "array([[1, 2, 3, 4, 5],\n",
       "       [5, 7, 9, 8, 0],\n",
       "       [4, 9, 7, 8, 9]])"
      ]
     },
     "execution_count": 43,
     "metadata": {},
     "output_type": "execute_result"
    }
   ],
   "source": [
    "np.dot(d,aaa)"
   ]
  },
  {
   "cell_type": "markdown",
   "metadata": {},
   "source": [
    "行列に単位行列をかけてももとの行列のまま"
   ]
  },
  {
   "cell_type": "code",
   "execution_count": 27,
   "metadata": {},
   "outputs": [
    {
     "data": {
      "text/plain": [
       "array([[1, 2, 3, 4, 5],\n",
       "       [5, 7, 9, 8, 0],\n",
       "       [4, 9, 7, 8, 9]])"
      ]
     },
     "execution_count": 27,
     "metadata": {},
     "output_type": "execute_result"
    }
   ],
   "source": [
    "d"
   ]
  },
  {
   "cell_type": "markdown",
   "metadata": {},
   "source": [
    "# Pandasを使ったCSVの読み込み"
   ]
  },
  {
   "cell_type": "markdown",
   "metadata": {},
   "source": [
    "## pandasのインポート"
   ]
  },
  {
   "cell_type": "code",
   "execution_count": 48,
   "metadata": {},
   "outputs": [],
   "source": [
    "import pandas as pd"
   ]
  },
  {
   "cell_type": "markdown",
   "metadata": {},
   "source": [
    "pandas.read_csv()でcsvを読み込む。"
   ]
  },
  {
   "cell_type": "code",
   "execution_count": 50,
   "metadata": {},
   "outputs": [
    {
     "data": {
      "text/html": [
       "<div>\n",
       "<style scoped>\n",
       "    .dataframe tbody tr th:only-of-type {\n",
       "        vertical-align: middle;\n",
       "    }\n",
       "\n",
       "    .dataframe tbody tr th {\n",
       "        vertical-align: top;\n",
       "    }\n",
       "\n",
       "    .dataframe thead th {\n",
       "        text-align: right;\n",
       "    }\n",
       "</style>\n",
       "<table border=\"1\" class=\"dataframe\">\n",
       "  <thead>\n",
       "    <tr style=\"text-align: right;\">\n",
       "      <th></th>\n",
       "      <th>CreationDate</th>\n",
       "      <th>UserIds</th>\n",
       "      <th>Operations</th>\n",
       "      <th>AuditData</th>\n",
       "    </tr>\n",
       "  </thead>\n",
       "  <tbody>\n",
       "    <tr>\n",
       "      <td>0</td>\n",
       "      <td>2020-08-03T05:57:22.0000000Z</td>\n",
       "      <td>arq-member@androbotics.onmicrosoft.com</td>\n",
       "      <td>UserLoggedIn</td>\n",
       "      <td>{\"CreationTime\":\"2020-08-03T05:57:22\",\"Id\":\"35...</td>\n",
       "    </tr>\n",
       "    <tr>\n",
       "      <td>1</td>\n",
       "      <td>2020-08-03T06:04:17.0000000Z</td>\n",
       "      <td>arn-member@androbotics.onmicrosoft.com</td>\n",
       "      <td>UserLoggedIn</td>\n",
       "      <td>{\"CreationTime\":\"2020-08-03T06:04:17\",\"Id\":\"4e...</td>\n",
       "    </tr>\n",
       "    <tr>\n",
       "      <td>2</td>\n",
       "      <td>2020-08-03T06:04:17.0000000Z</td>\n",
       "      <td>arn-member@androbotics.onmicrosoft.com</td>\n",
       "      <td>UserLoggedIn</td>\n",
       "      <td>{\"CreationTime\":\"2020-08-03T06:04:17\",\"Id\":\"9e...</td>\n",
       "    </tr>\n",
       "    <tr>\n",
       "      <td>3</td>\n",
       "      <td>2020-08-03T06:19:47.0000000Z</td>\n",
       "      <td>s.ida@ml.androbo.co.jp</td>\n",
       "      <td>FileSyncUploadedFull</td>\n",
       "      <td>{\"CreationTime\":\"2020-08-03T06:19:47\",\"Id\":\"f0...</td>\n",
       "    </tr>\n",
       "    <tr>\n",
       "      <td>4</td>\n",
       "      <td>2020-08-03T06:19:58.0000000Z</td>\n",
       "      <td>s.ida@ml.androbo.co.jp</td>\n",
       "      <td>FileRenamed</td>\n",
       "      <td>{\"CreationTime\":\"2020-08-03T06:19:58\",\"Id\":\"7c...</td>\n",
       "    </tr>\n",
       "    <tr>\n",
       "      <td>...</td>\n",
       "      <td>...</td>\n",
       "      <td>...</td>\n",
       "      <td>...</td>\n",
       "      <td>...</td>\n",
       "    </tr>\n",
       "    <tr>\n",
       "      <td>30821</td>\n",
       "      <td>2020-07-28T22:49:03.0000000Z</td>\n",
       "      <td>aro-member@androbotics.onmicrosoft.com</td>\n",
       "      <td>CompanyLinkUsed</td>\n",
       "      <td>{\"CreationTime\":\"2020-07-28T22:49:03\",\"Id\":\"d7...</td>\n",
       "    </tr>\n",
       "    <tr>\n",
       "      <td>30822</td>\n",
       "      <td>2020-07-28T22:49:03.0000000Z</td>\n",
       "      <td>aro-member@androbotics.onmicrosoft.com</td>\n",
       "      <td>FileAccessed</td>\n",
       "      <td>{\"CreationTime\":\"2020-07-28T22:49:03\",\"Id\":\"62...</td>\n",
       "    </tr>\n",
       "    <tr>\n",
       "      <td>30823</td>\n",
       "      <td>2020-07-28T15:20:15.0000000Z</td>\n",
       "      <td>app@sharepoint</td>\n",
       "      <td>FileAccessed</td>\n",
       "      <td>{\"CreationTime\":\"2020-07-28T15:20:15\",\"Id\":\"6c...</td>\n",
       "    </tr>\n",
       "    <tr>\n",
       "      <td>30824</td>\n",
       "      <td>2020-07-28T15:26:36.0000000Z</td>\n",
       "      <td>app@sharepoint</td>\n",
       "      <td>FileAccessed</td>\n",
       "      <td>{\"CreationTime\":\"2020-07-28T15:26:36\",\"Id\":\"f7...</td>\n",
       "    </tr>\n",
       "    <tr>\n",
       "      <td>30825</td>\n",
       "      <td>2020-07-28T15:28:21.0000000Z</td>\n",
       "      <td>app@sharepoint</td>\n",
       "      <td>FileAccessed</td>\n",
       "      <td>{\"CreationTime\":\"2020-07-28T15:28:21\",\"Id\":\"67...</td>\n",
       "    </tr>\n",
       "  </tbody>\n",
       "</table>\n",
       "<p>30826 rows × 4 columns</p>\n",
       "</div>"
      ],
      "text/plain": [
       "                       CreationDate                                 UserIds  \\\n",
       "0      2020-08-03T05:57:22.0000000Z  arq-member@androbotics.onmicrosoft.com   \n",
       "1      2020-08-03T06:04:17.0000000Z  arn-member@androbotics.onmicrosoft.com   \n",
       "2      2020-08-03T06:04:17.0000000Z  arn-member@androbotics.onmicrosoft.com   \n",
       "3      2020-08-03T06:19:47.0000000Z                  s.ida@ml.androbo.co.jp   \n",
       "4      2020-08-03T06:19:58.0000000Z                  s.ida@ml.androbo.co.jp   \n",
       "...                             ...                                     ...   \n",
       "30821  2020-07-28T22:49:03.0000000Z  aro-member@androbotics.onmicrosoft.com   \n",
       "30822  2020-07-28T22:49:03.0000000Z  aro-member@androbotics.onmicrosoft.com   \n",
       "30823  2020-07-28T15:20:15.0000000Z                          app@sharepoint   \n",
       "30824  2020-07-28T15:26:36.0000000Z                          app@sharepoint   \n",
       "30825  2020-07-28T15:28:21.0000000Z                          app@sharepoint   \n",
       "\n",
       "                 Operations                                          AuditData  \n",
       "0              UserLoggedIn  {\"CreationTime\":\"2020-08-03T05:57:22\",\"Id\":\"35...  \n",
       "1              UserLoggedIn  {\"CreationTime\":\"2020-08-03T06:04:17\",\"Id\":\"4e...  \n",
       "2              UserLoggedIn  {\"CreationTime\":\"2020-08-03T06:04:17\",\"Id\":\"9e...  \n",
       "3      FileSyncUploadedFull  {\"CreationTime\":\"2020-08-03T06:19:47\",\"Id\":\"f0...  \n",
       "4               FileRenamed  {\"CreationTime\":\"2020-08-03T06:19:58\",\"Id\":\"7c...  \n",
       "...                     ...                                                ...  \n",
       "30821       CompanyLinkUsed  {\"CreationTime\":\"2020-07-28T22:49:03\",\"Id\":\"d7...  \n",
       "30822          FileAccessed  {\"CreationTime\":\"2020-07-28T22:49:03\",\"Id\":\"62...  \n",
       "30823          FileAccessed  {\"CreationTime\":\"2020-07-28T15:20:15\",\"Id\":\"6c...  \n",
       "30824          FileAccessed  {\"CreationTime\":\"2020-07-28T15:26:36\",\"Id\":\"f7...  \n",
       "30825          FileAccessed  {\"CreationTime\":\"2020-07-28T15:28:21\",\"Id\":\"67...  \n",
       "\n",
       "[30826 rows x 4 columns]"
      ]
     },
     "execution_count": 50,
     "metadata": {},
     "output_type": "execute_result"
    }
   ],
   "source": [
    "pd.read_csv(\"AuditLog_2020-07-28_2020-08-03.csv\")"
   ]
  },
  {
   "cell_type": "markdown",
   "metadata": {},
   "source": [
    "同じディレクトリにある場合はファイル名を引数に入れると読み込める"
   ]
  },
  {
   "cell_type": "code",
   "execution_count": 28,
   "metadata": {},
   "outputs": [
    {
     "ename": "SyntaxError",
     "evalue": "(unicode error) 'unicodeescape' codec can't decode bytes in position 2-3: truncated \\UXXXXXXXX escape (<ipython-input-28-4e6770e88fd7>, line 1)",
     "output_type": "error",
     "traceback": [
      "\u001b[1;36m  File \u001b[1;32m\"<ipython-input-28-4e6770e88fd7>\"\u001b[1;36m, line \u001b[1;32m1\u001b[0m\n\u001b[1;33m    pd.read_csv(\"C:\\Users\\K_androbo\\Desktop\\AuditLog_2020-07-28_2020-08-03.csv\")\u001b[0m\n\u001b[1;37m               ^\u001b[0m\n\u001b[1;31mSyntaxError\u001b[0m\u001b[1;31m:\u001b[0m (unicode error) 'unicodeescape' codec can't decode bytes in position 2-3: truncated \\UXXXXXXXX escape\n"
     ]
    }
   ],
   "source": [
    "pd.read_csv(\"C:\\Users\\K_androbo\\Desktop\\AuditLog_2020-07-28_2020-08-03.csv\")"
   ]
  },
  {
   "cell_type": "markdown",
   "metadata": {},
   "source": [
    "違うディレクトリにある場合はpathを引数に入れるが、そのまま文字列にしても\\でエスケープされてしまうため、"
   ]
  },
  {
   "cell_type": "code",
   "execution_count": 29,
   "metadata": {
    "scrolled": false
   },
   "outputs": [
    {
     "data": {
      "text/html": [
       "<div>\n",
       "<style scoped>\n",
       "    .dataframe tbody tr th:only-of-type {\n",
       "        vertical-align: middle;\n",
       "    }\n",
       "\n",
       "    .dataframe tbody tr th {\n",
       "        vertical-align: top;\n",
       "    }\n",
       "\n",
       "    .dataframe thead th {\n",
       "        text-align: right;\n",
       "    }\n",
       "</style>\n",
       "<table border=\"1\" class=\"dataframe\">\n",
       "  <thead>\n",
       "    <tr style=\"text-align: right;\">\n",
       "      <th></th>\n",
       "      <th>CreationDate</th>\n",
       "      <th>UserIds</th>\n",
       "      <th>Operations</th>\n",
       "      <th>AuditData</th>\n",
       "    </tr>\n",
       "  </thead>\n",
       "  <tbody>\n",
       "    <tr>\n",
       "      <td>0</td>\n",
       "      <td>2020-08-03T05:57:22.0000000Z</td>\n",
       "      <td>arq-member@androbotics.onmicrosoft.com</td>\n",
       "      <td>UserLoggedIn</td>\n",
       "      <td>{\"CreationTime\":\"2020-08-03T05:57:22\",\"Id\":\"35...</td>\n",
       "    </tr>\n",
       "    <tr>\n",
       "      <td>1</td>\n",
       "      <td>2020-08-03T06:04:17.0000000Z</td>\n",
       "      <td>arn-member@androbotics.onmicrosoft.com</td>\n",
       "      <td>UserLoggedIn</td>\n",
       "      <td>{\"CreationTime\":\"2020-08-03T06:04:17\",\"Id\":\"4e...</td>\n",
       "    </tr>\n",
       "    <tr>\n",
       "      <td>2</td>\n",
       "      <td>2020-08-03T06:04:17.0000000Z</td>\n",
       "      <td>arn-member@androbotics.onmicrosoft.com</td>\n",
       "      <td>UserLoggedIn</td>\n",
       "      <td>{\"CreationTime\":\"2020-08-03T06:04:17\",\"Id\":\"9e...</td>\n",
       "    </tr>\n",
       "    <tr>\n",
       "      <td>3</td>\n",
       "      <td>2020-08-03T06:19:47.0000000Z</td>\n",
       "      <td>s.ida@ml.androbo.co.jp</td>\n",
       "      <td>FileSyncUploadedFull</td>\n",
       "      <td>{\"CreationTime\":\"2020-08-03T06:19:47\",\"Id\":\"f0...</td>\n",
       "    </tr>\n",
       "    <tr>\n",
       "      <td>4</td>\n",
       "      <td>2020-08-03T06:19:58.0000000Z</td>\n",
       "      <td>s.ida@ml.androbo.co.jp</td>\n",
       "      <td>FileRenamed</td>\n",
       "      <td>{\"CreationTime\":\"2020-08-03T06:19:58\",\"Id\":\"7c...</td>\n",
       "    </tr>\n",
       "    <tr>\n",
       "      <td>...</td>\n",
       "      <td>...</td>\n",
       "      <td>...</td>\n",
       "      <td>...</td>\n",
       "      <td>...</td>\n",
       "    </tr>\n",
       "    <tr>\n",
       "      <td>30821</td>\n",
       "      <td>2020-07-28T22:49:03.0000000Z</td>\n",
       "      <td>aro-member@androbotics.onmicrosoft.com</td>\n",
       "      <td>CompanyLinkUsed</td>\n",
       "      <td>{\"CreationTime\":\"2020-07-28T22:49:03\",\"Id\":\"d7...</td>\n",
       "    </tr>\n",
       "    <tr>\n",
       "      <td>30822</td>\n",
       "      <td>2020-07-28T22:49:03.0000000Z</td>\n",
       "      <td>aro-member@androbotics.onmicrosoft.com</td>\n",
       "      <td>FileAccessed</td>\n",
       "      <td>{\"CreationTime\":\"2020-07-28T22:49:03\",\"Id\":\"62...</td>\n",
       "    </tr>\n",
       "    <tr>\n",
       "      <td>30823</td>\n",
       "      <td>2020-07-28T15:20:15.0000000Z</td>\n",
       "      <td>app@sharepoint</td>\n",
       "      <td>FileAccessed</td>\n",
       "      <td>{\"CreationTime\":\"2020-07-28T15:20:15\",\"Id\":\"6c...</td>\n",
       "    </tr>\n",
       "    <tr>\n",
       "      <td>30824</td>\n",
       "      <td>2020-07-28T15:26:36.0000000Z</td>\n",
       "      <td>app@sharepoint</td>\n",
       "      <td>FileAccessed</td>\n",
       "      <td>{\"CreationTime\":\"2020-07-28T15:26:36\",\"Id\":\"f7...</td>\n",
       "    </tr>\n",
       "    <tr>\n",
       "      <td>30825</td>\n",
       "      <td>2020-07-28T15:28:21.0000000Z</td>\n",
       "      <td>app@sharepoint</td>\n",
       "      <td>FileAccessed</td>\n",
       "      <td>{\"CreationTime\":\"2020-07-28T15:28:21\",\"Id\":\"67...</td>\n",
       "    </tr>\n",
       "  </tbody>\n",
       "</table>\n",
       "<p>30826 rows × 4 columns</p>\n",
       "</div>"
      ],
      "text/plain": [
       "                       CreationDate                                 UserIds  \\\n",
       "0      2020-08-03T05:57:22.0000000Z  arq-member@androbotics.onmicrosoft.com   \n",
       "1      2020-08-03T06:04:17.0000000Z  arn-member@androbotics.onmicrosoft.com   \n",
       "2      2020-08-03T06:04:17.0000000Z  arn-member@androbotics.onmicrosoft.com   \n",
       "3      2020-08-03T06:19:47.0000000Z                  s.ida@ml.androbo.co.jp   \n",
       "4      2020-08-03T06:19:58.0000000Z                  s.ida@ml.androbo.co.jp   \n",
       "...                             ...                                     ...   \n",
       "30821  2020-07-28T22:49:03.0000000Z  aro-member@androbotics.onmicrosoft.com   \n",
       "30822  2020-07-28T22:49:03.0000000Z  aro-member@androbotics.onmicrosoft.com   \n",
       "30823  2020-07-28T15:20:15.0000000Z                          app@sharepoint   \n",
       "30824  2020-07-28T15:26:36.0000000Z                          app@sharepoint   \n",
       "30825  2020-07-28T15:28:21.0000000Z                          app@sharepoint   \n",
       "\n",
       "                 Operations                                          AuditData  \n",
       "0              UserLoggedIn  {\"CreationTime\":\"2020-08-03T05:57:22\",\"Id\":\"35...  \n",
       "1              UserLoggedIn  {\"CreationTime\":\"2020-08-03T06:04:17\",\"Id\":\"4e...  \n",
       "2              UserLoggedIn  {\"CreationTime\":\"2020-08-03T06:04:17\",\"Id\":\"9e...  \n",
       "3      FileSyncUploadedFull  {\"CreationTime\":\"2020-08-03T06:19:47\",\"Id\":\"f0...  \n",
       "4               FileRenamed  {\"CreationTime\":\"2020-08-03T06:19:58\",\"Id\":\"7c...  \n",
       "...                     ...                                                ...  \n",
       "30821       CompanyLinkUsed  {\"CreationTime\":\"2020-07-28T22:49:03\",\"Id\":\"d7...  \n",
       "30822          FileAccessed  {\"CreationTime\":\"2020-07-28T22:49:03\",\"Id\":\"62...  \n",
       "30823          FileAccessed  {\"CreationTime\":\"2020-07-28T15:20:15\",\"Id\":\"6c...  \n",
       "30824          FileAccessed  {\"CreationTime\":\"2020-07-28T15:26:36\",\"Id\":\"f7...  \n",
       "30825          FileAccessed  {\"CreationTime\":\"2020-07-28T15:28:21\",\"Id\":\"67...  \n",
       "\n",
       "[30826 rows x 4 columns]"
      ]
     },
     "execution_count": 29,
     "metadata": {},
     "output_type": "execute_result"
    }
   ],
   "source": [
    "pd.read_csv(r\"C:\\Users\\K_androbo\\Desktop\\AuditLog_2020-07-28_2020-08-03.csv\")"
   ]
  },
  {
   "cell_type": "markdown",
   "metadata": {},
   "source": [
    "r\"string\"でraw文字列にしてあげる必要がある。"
   ]
  },
  {
   "cell_type": "markdown",
   "metadata": {},
   "source": [
    "# 次回はpandasのつづきから！！"
   ]
  }
 ],
 "metadata": {
  "kernelspec": {
   "display_name": "Python 3",
   "language": "python",
   "name": "python3"
  },
  "language_info": {
   "codemirror_mode": {
    "name": "ipython",
    "version": 3
   },
   "file_extension": ".py",
   "mimetype": "text/x-python",
   "name": "python",
   "nbconvert_exporter": "python",
   "pygments_lexer": "ipython3",
   "version": "3.8.3"
  }
 },
 "nbformat": 4,
 "nbformat_minor": 2
}
