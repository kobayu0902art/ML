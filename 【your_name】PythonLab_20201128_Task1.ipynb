{
 "cells": [
  {
   "attachments": {},
   "cell_type": "markdown",
   "metadata": {},
   "source": [
    "# サトシ君はポケモンの情報が分からず困っています。\n",
    "<img src=\"https://assets.st-note.com/production/uploads/images/11128402/rectangle_large_type_2_cacec6636944782a075c98c90efca608.jpeg?fit=bounds&format=jpeg&quality=45&width=960\" width=\"20%\">\n",
    "\n",
    "## PokemonStatus_Gen8.csvを使って助けてあげましょう。"
   ]
  },
  {
   "attachments": {},
   "cell_type": "markdown",
   "metadata": {},
   "source": [
    "Q1.キングドラのタイプってなんだっけ？ \n",
    "<img src=\"https://img.yakkun.com/poke/icon960/n230.png\" width=\"20%\">\n",
    "\n",
    "※キングドラはタイプを2つもっています。"
   ]
  },
  {
   "cell_type": "markdown",
   "metadata": {},
   "source": [
    "A1."
   ]
  },
  {
   "cell_type": "code",
   "execution_count": null,
   "metadata": {},
   "outputs": [],
   "source": []
  },
  {
   "cell_type": "markdown",
   "metadata": {},
   "source": [
    "Q2.\"エースバーン\"と\"ウーラオス(れんげきのかた)\"ってどっちが\"すばやさ\"高いんだっけ？\n",
    "<table>\n",
    "<tr>\n",
    "<td><img src=\"https://img.gamewith.jp/article/thumbnail/rectangle_l/175815.png\" width=\"50%\"></td>\n",
    "<td><img src=\"https://img.gamewith.jp/article/thumbnail/rectangle_l/182847.png\" width=\"50%\"></td>\n",
    "</tr>\n",
    "</table>"
   ]
  },
  {
   "cell_type": "markdown",
   "metadata": {},
   "source": [
    "A2."
   ]
  },
  {
   "cell_type": "code",
   "execution_count": null,
   "metadata": {},
   "outputs": [],
   "source": []
  },
  {
   "cell_type": "markdown",
   "metadata": {},
   "source": [
    "Q3.カントー地方だけのDataFrame(df_kanto)がほしいな。。。\n",
    "\n",
    "※カントー地方のポケモンは図鑑番号1～151までです。"
   ]
  },
  {
   "cell_type": "markdown",
   "metadata": {},
   "source": [
    "A3."
   ]
  },
  {
   "cell_type": "code",
   "execution_count": null,
   "metadata": {},
   "outputs": [],
   "source": []
  },
  {
   "cell_type": "markdown",
   "metadata": {},
   "source": [
    "Q4.ガブリアスのデータが見たい！\n",
    "<img src=\"https://zukan.pokemon.co.jp/zukan-api/up/images/index/e10f25b88cfd78ee822f46d234e4768f.png\" width=\"25%\">"
   ]
  },
  {
   "cell_type": "markdown",
   "metadata": {},
   "source": [
    "A4."
   ]
  },
  {
   "cell_type": "code",
   "execution_count": null,
   "metadata": {},
   "outputs": [],
   "source": []
  },
  {
   "cell_type": "markdown",
   "metadata": {},
   "source": [
    "# ここでオーキド博士から通信が…\n",
    "\n",
    "オーキド博士「速報じゃ！なんとカイオーガのタイプがどうやら **[みず・はがね]** タイプになっているみたいなのじゃ。」\n",
    "\n",
    "オーキド博士「それだけじゃなく、鳥取砂丘にグラードンが出現したのじゃが、タイプが **[くさ・じめん]** タイプになっているばかりか、**とくせい**が **\"エアロック\"** になっているみないなのじゃ。他のステータスはグラードンと同じなのじゃが、これはもはや鳥取限定の別のポケモンといえるじゃろうなあ。」\n",
    "\n",
    "<table>\n",
    "<tr>\n",
    "<td><img src=\"https://zukan.pokemon.co.jp/zukan-api/up/images/index/45d077caac375975f6e77246fd9a72f0.png\" width=\"50%\"></td>\n",
    "<td><img src=\"https://zukan.pokemon.co.jp/zukan-api/up/images/index/7521d3369da8ddfca9be14fa74cf6c2b.png\" width=\"50%\"></td>\n",
    "</tr>\n",
    "</table>"
   ]
  },
  {
   "cell_type": "markdown",
   "metadata": {},
   "source": [
    "Q5.カイオーガのデータをオーキド博士の言うとおりに更新しなきゃ！"
   ]
  },
  {
   "cell_type": "markdown",
   "metadata": {},
   "source": [
    "A5."
   ]
  },
  {
   "cell_type": "code",
   "execution_count": null,
   "metadata": {},
   "outputs": [],
   "source": []
  },
  {
   "cell_type": "markdown",
   "metadata": {},
   "source": [
    "Q6.鳥取砂丘に出現したグラードンを **\"グラードン(トットリのすがた)\"** として新しく登録しなきゃ！\n",
    "\n",
    "※\"グラードン(トットリのすがた)\"の図鑑番号は2525です。"
   ]
  },
  {
   "cell_type": "markdown",
   "metadata": {},
   "source": [
    "A6."
   ]
  },
  {
   "cell_type": "code",
   "execution_count": null,
   "metadata": {},
   "outputs": [],
   "source": []
  },
  {
   "cell_type": "markdown",
   "metadata": {},
   "source": [
    "# ここでまたオーキド博士から通信だ\n",
    "\n",
    "オーキド博士「どこかのヤドン愛好家が世界中のヤドンを1ヵ所に集めているみたいなのじゃ。これでは図鑑に載せている意味はないかもしれんのう」\n",
    "\n",
    "<img src=\"https://zukan.pokemon.co.jp/zukan-api/up/images/index/f8d806f32ee833db68f00e2c50b136be.png\" width=\"10%\">\n",
    "\n",
    "オーキド博士「コロナウィルスの影響で自粛しすぎたせいか、すべてのポケモンの**すばやさ**が0になってしまった…」\n",
    "\n",
    "オーキド博士「これでは図鑑に**すばやさ**を表示させておく必要はないな…」"
   ]
  },
  {
   "cell_type": "markdown",
   "metadata": {},
   "source": [
    "Q7.残念だけど図鑑からヤドンの情報を消しておこう。。。"
   ]
  },
  {
   "cell_type": "markdown",
   "metadata": {},
   "source": [
    "A7."
   ]
  },
  {
   "cell_type": "code",
   "execution_count": null,
   "metadata": {},
   "outputs": [],
   "source": []
  },
  {
   "cell_type": "markdown",
   "metadata": {},
   "source": [
    "Q8.すべてのポケモンのすばやさを0にしよう"
   ]
  },
  {
   "cell_type": "markdown",
   "metadata": {},
   "source": [
    "A8."
   ]
  },
  {
   "cell_type": "code",
   "execution_count": null,
   "metadata": {},
   "outputs": [],
   "source": []
  },
  {
   "cell_type": "markdown",
   "metadata": {},
   "source": [
    "Q9.図鑑からすばやさの情報を消しておこう"
   ]
  },
  {
   "cell_type": "markdown",
   "metadata": {},
   "source": [
    "A9."
   ]
  },
  {
   "cell_type": "code",
   "execution_count": null,
   "metadata": {},
   "outputs": [],
   "source": []
  },
  {
   "cell_type": "markdown",
   "metadata": {},
   "source": [
    "# 今回の課題【Pandas基本操作編】は以上です！\n",
    "# お疲れ様でした！"
   ]
  }
 ],
 "metadata": {
  "kernelspec": {
   "display_name": "Python 3",
   "language": "python",
   "name": "python3"
  },
  "language_info": {
   "codemirror_mode": {
    "name": "ipython",
    "version": 3
   },
   "file_extension": ".py",
   "mimetype": "text/x-python",
   "name": "python",
   "nbconvert_exporter": "python",
   "pygments_lexer": "ipython3",
   "version": "3.8.3"
  }
 },
 "nbformat": 4,
 "nbformat_minor": 4
}
