{
 "cells": [
  {
   "cell_type": "markdown",
   "metadata": {},
   "source": [
    "## きょうの目標\n",
    "\n",
    "# 0.Pandasインストール\n",
    "\n",
    "# 1.DBについて(CRUD)\n",
    "\n",
    "# 2.CSV読み込み\n",
    "\n",
    "# 3.抽出\n",
    "\n",
    "### 3-1.番号による抽出\n",
    "  - **行**の抽出\n",
    " \n",
    "### 3-2.名前による抽出\n",
    "  - **行**の抽出\n",
    "  - **列**の抽出\n",
    "  - **要素**の抽出\n",
    " \n",
    "# 6.要素に対する操作\n",
    "  - ### 6-1.要素の置換・更新\n",
    "  - ### 6-2.要素の削除\n",
    "  - ### 6-3.欠損値NaNを処理\n",
    "  \n",
    "# 4.挿入\n",
    "  - ### 4-1.行の挿入\n",
    "  - ### 4-2.列の挿入\n",
    "\n",
    "# 5.行のソート"
   ]
  },
  {
   "cell_type": "markdown",
   "metadata": {},
   "source": [
    "〇〇(ライブラリ)　依存関係"
   ]
  },
  {
   "cell_type": "code",
   "execution_count": 1,
   "metadata": {
    "scrolled": true
   },
   "outputs": [
    {
     "name": "stdout",
     "output_type": "stream",
     "text": [
      "Requirement already satisfied: pandas in c:\\programdata\\anaconda3\\lib\\site-packages (1.0.5)\n",
      "Requirement already satisfied: numpy>=1.13.3 in c:\\programdata\\anaconda3\\lib\\site-packages (from pandas) (1.18.5)\n",
      "Requirement already satisfied: python-dateutil>=2.6.1 in c:\\programdata\\anaconda3\\lib\\site-packages (from pandas) (2.8.1)\n",
      "Requirement already satisfied: pytz>=2017.2 in c:\\programdata\\anaconda3\\lib\\site-packages (from pandas) (2020.1)\n",
      "Requirement already satisfied: six>=1.5 in c:\\programdata\\anaconda3\\lib\\site-packages (from python-dateutil>=2.6.1->pandas) (1.15.0)\n",
      "Note: you may need to restart the kernel to use updated packages.\n"
     ]
    }
   ],
   "source": [
    "pip install pandas"
   ]
  },
  {
   "cell_type": "markdown",
   "metadata": {},
   "source": [
    "# 1.DBについて(CRUD)\n",
    "\n",
    "# CRUD:データを取り扱うソフトウェアに要求される4つの基本機能\n",
    "\n",
    "# C:Create (挿入)\n",
    "# R:Read (表示・抽出)\n",
    "# U:Update　(更新)\n",
    "# D:Delete　(削除)"
   ]
  },
  {
   "cell_type": "code",
   "execution_count": 2,
   "metadata": {},
   "outputs": [],
   "source": [
    "import pandas as pd"
   ]
  },
  {
   "cell_type": "markdown",
   "metadata": {},
   "source": [
    "# 2.CSV読み込み"
   ]
  },
  {
   "cell_type": "code",
   "execution_count": 3,
   "metadata": {},
   "outputs": [],
   "source": [
    "df = pd.read_csv(\"PokemonStatus_Gen8.csv\")"
   ]
  },
  {
   "cell_type": "code",
   "execution_count": 4,
   "metadata": {},
   "outputs": [
    {
     "data": {
      "text/html": [
       "<div>\n",
       "<style scoped>\n",
       "    .dataframe tbody tr th:only-of-type {\n",
       "        vertical-align: middle;\n",
       "    }\n",
       "\n",
       "    .dataframe tbody tr th {\n",
       "        vertical-align: top;\n",
       "    }\n",
       "\n",
       "    .dataframe thead th {\n",
       "        text-align: right;\n",
       "    }\n",
       "</style>\n",
       "<table border=\"1\" class=\"dataframe\">\n",
       "  <thead>\n",
       "    <tr style=\"text-align: right;\">\n",
       "      <th></th>\n",
       "      <th>図鑑番号</th>\n",
       "      <th>ポケモン名</th>\n",
       "      <th>タイプ１</th>\n",
       "      <th>タイプ２</th>\n",
       "      <th>通常特性１</th>\n",
       "      <th>通常特性２</th>\n",
       "      <th>夢特性</th>\n",
       "      <th>HP</th>\n",
       "      <th>こうげき</th>\n",
       "      <th>ぼうぎょ</th>\n",
       "      <th>とくこう</th>\n",
       "      <th>とくぼう</th>\n",
       "      <th>すばやさ</th>\n",
       "      <th>合計</th>\n",
       "    </tr>\n",
       "  </thead>\n",
       "  <tbody>\n",
       "    <tr>\n",
       "      <th>0</th>\n",
       "      <td>1</td>\n",
       "      <td>フシギダネ</td>\n",
       "      <td>くさ</td>\n",
       "      <td>どく</td>\n",
       "      <td>しんりょく</td>\n",
       "      <td>NaN</td>\n",
       "      <td>ようりょくそ</td>\n",
       "      <td>45</td>\n",
       "      <td>49</td>\n",
       "      <td>49</td>\n",
       "      <td>65</td>\n",
       "      <td>65</td>\n",
       "      <td>45</td>\n",
       "      <td>318</td>\n",
       "    </tr>\n",
       "    <tr>\n",
       "      <th>1</th>\n",
       "      <td>2</td>\n",
       "      <td>フシギソウ</td>\n",
       "      <td>くさ</td>\n",
       "      <td>どく</td>\n",
       "      <td>しんりょく</td>\n",
       "      <td>NaN</td>\n",
       "      <td>ようりょくそ</td>\n",
       "      <td>60</td>\n",
       "      <td>62</td>\n",
       "      <td>63</td>\n",
       "      <td>80</td>\n",
       "      <td>80</td>\n",
       "      <td>60</td>\n",
       "      <td>405</td>\n",
       "    </tr>\n",
       "    <tr>\n",
       "      <th>2</th>\n",
       "      <td>3</td>\n",
       "      <td>フシギバナ</td>\n",
       "      <td>くさ</td>\n",
       "      <td>どく</td>\n",
       "      <td>しんりょく</td>\n",
       "      <td>NaN</td>\n",
       "      <td>ようりょくそ</td>\n",
       "      <td>80</td>\n",
       "      <td>82</td>\n",
       "      <td>83</td>\n",
       "      <td>100</td>\n",
       "      <td>100</td>\n",
       "      <td>80</td>\n",
       "      <td>525</td>\n",
       "    </tr>\n",
       "    <tr>\n",
       "      <th>3</th>\n",
       "      <td>3</td>\n",
       "      <td>メガフシギバナ</td>\n",
       "      <td>くさ</td>\n",
       "      <td>どく</td>\n",
       "      <td>あついしぼう</td>\n",
       "      <td>NaN</td>\n",
       "      <td>NaN</td>\n",
       "      <td>80</td>\n",
       "      <td>100</td>\n",
       "      <td>123</td>\n",
       "      <td>122</td>\n",
       "      <td>120</td>\n",
       "      <td>80</td>\n",
       "      <td>625</td>\n",
       "    </tr>\n",
       "    <tr>\n",
       "      <th>4</th>\n",
       "      <td>4</td>\n",
       "      <td>ヒトカゲ</td>\n",
       "      <td>ほのお</td>\n",
       "      <td>NaN</td>\n",
       "      <td>もうか</td>\n",
       "      <td>NaN</td>\n",
       "      <td>サンパワー</td>\n",
       "      <td>39</td>\n",
       "      <td>52</td>\n",
       "      <td>43</td>\n",
       "      <td>60</td>\n",
       "      <td>50</td>\n",
       "      <td>65</td>\n",
       "      <td>309</td>\n",
       "    </tr>\n",
       "    <tr>\n",
       "      <th>...</th>\n",
       "      <td>...</td>\n",
       "      <td>...</td>\n",
       "      <td>...</td>\n",
       "      <td>...</td>\n",
       "      <td>...</td>\n",
       "      <td>...</td>\n",
       "      <td>...</td>\n",
       "      <td>...</td>\n",
       "      <td>...</td>\n",
       "      <td>...</td>\n",
       "      <td>...</td>\n",
       "      <td>...</td>\n",
       "      <td>...</td>\n",
       "      <td>...</td>\n",
       "    </tr>\n",
       "    <tr>\n",
       "      <th>1034</th>\n",
       "      <td>896</td>\n",
       "      <td>ブリザポス</td>\n",
       "      <td>こおり</td>\n",
       "      <td>NaN</td>\n",
       "      <td>しろのいななき</td>\n",
       "      <td>NaN</td>\n",
       "      <td>NaN</td>\n",
       "      <td>100</td>\n",
       "      <td>145</td>\n",
       "      <td>130</td>\n",
       "      <td>65</td>\n",
       "      <td>110</td>\n",
       "      <td>30</td>\n",
       "      <td>580</td>\n",
       "    </tr>\n",
       "    <tr>\n",
       "      <th>1035</th>\n",
       "      <td>897</td>\n",
       "      <td>レイスポス</td>\n",
       "      <td>ゴースト</td>\n",
       "      <td>NaN</td>\n",
       "      <td>くろのいななき</td>\n",
       "      <td>NaN</td>\n",
       "      <td>NaN</td>\n",
       "      <td>100</td>\n",
       "      <td>65</td>\n",
       "      <td>60</td>\n",
       "      <td>145</td>\n",
       "      <td>80</td>\n",
       "      <td>130</td>\n",
       "      <td>580</td>\n",
       "    </tr>\n",
       "    <tr>\n",
       "      <th>1036</th>\n",
       "      <td>898</td>\n",
       "      <td>バドレックス</td>\n",
       "      <td>エスパー</td>\n",
       "      <td>くさ</td>\n",
       "      <td>きんちょうかん</td>\n",
       "      <td>NaN</td>\n",
       "      <td>NaN</td>\n",
       "      <td>100</td>\n",
       "      <td>80</td>\n",
       "      <td>80</td>\n",
       "      <td>80</td>\n",
       "      <td>80</td>\n",
       "      <td>80</td>\n",
       "      <td>500</td>\n",
       "    </tr>\n",
       "    <tr>\n",
       "      <th>1037</th>\n",
       "      <td>898</td>\n",
       "      <td>バドレックス(はくばじょうのすがた)</td>\n",
       "      <td>エスパー</td>\n",
       "      <td>こおり</td>\n",
       "      <td>じんばいったい</td>\n",
       "      <td>NaN</td>\n",
       "      <td>NaN</td>\n",
       "      <td>100</td>\n",
       "      <td>165</td>\n",
       "      <td>150</td>\n",
       "      <td>85</td>\n",
       "      <td>130</td>\n",
       "      <td>50</td>\n",
       "      <td>680</td>\n",
       "    </tr>\n",
       "    <tr>\n",
       "      <th>1038</th>\n",
       "      <td>898</td>\n",
       "      <td>バドレックス(こくばじょうのすがた)</td>\n",
       "      <td>エスパー</td>\n",
       "      <td>ゴースト</td>\n",
       "      <td>じんばいったい</td>\n",
       "      <td>NaN</td>\n",
       "      <td>NaN</td>\n",
       "      <td>100</td>\n",
       "      <td>85</td>\n",
       "      <td>80</td>\n",
       "      <td>165</td>\n",
       "      <td>100</td>\n",
       "      <td>150</td>\n",
       "      <td>680</td>\n",
       "    </tr>\n",
       "  </tbody>\n",
       "</table>\n",
       "<p>1039 rows × 14 columns</p>\n",
       "</div>"
      ],
      "text/plain": [
       "      図鑑番号               ポケモン名  タイプ１  タイプ２    通常特性１ 通常特性２     夢特性   HP  こうげき  \\\n",
       "0        1               フシギダネ    くさ    どく    しんりょく   NaN  ようりょくそ   45    49   \n",
       "1        2               フシギソウ    くさ    どく    しんりょく   NaN  ようりょくそ   60    62   \n",
       "2        3               フシギバナ    くさ    どく    しんりょく   NaN  ようりょくそ   80    82   \n",
       "3        3             メガフシギバナ    くさ    どく   あついしぼう   NaN     NaN   80   100   \n",
       "4        4                ヒトカゲ   ほのお   NaN      もうか   NaN   サンパワー   39    52   \n",
       "...    ...                 ...   ...   ...      ...   ...     ...  ...   ...   \n",
       "1034   896               ブリザポス   こおり   NaN  しろのいななき   NaN     NaN  100   145   \n",
       "1035   897               レイスポス  ゴースト   NaN  くろのいななき   NaN     NaN  100    65   \n",
       "1036   898              バドレックス  エスパー    くさ  きんちょうかん   NaN     NaN  100    80   \n",
       "1037   898  バドレックス(はくばじょうのすがた)  エスパー   こおり  じんばいったい   NaN     NaN  100   165   \n",
       "1038   898  バドレックス(こくばじょうのすがた)  エスパー  ゴースト  じんばいったい   NaN     NaN  100    85   \n",
       "\n",
       "      ぼうぎょ  とくこう  とくぼう  すばやさ   合計  \n",
       "0       49    65    65    45  318  \n",
       "1       63    80    80    60  405  \n",
       "2       83   100   100    80  525  \n",
       "3      123   122   120    80  625  \n",
       "4       43    60    50    65  309  \n",
       "...    ...   ...   ...   ...  ...  \n",
       "1034   130    65   110    30  580  \n",
       "1035    60   145    80   130  580  \n",
       "1036    80    80    80    80  500  \n",
       "1037   150    85   130    50  680  \n",
       "1038    80   165   100   150  680  \n",
       "\n",
       "[1039 rows x 14 columns]"
      ]
     },
     "execution_count": 4,
     "metadata": {},
     "output_type": "execute_result"
    }
   ],
   "source": [
    "df"
   ]
  },
  {
   "cell_type": "code",
   "execution_count": 5,
   "metadata": {},
   "outputs": [],
   "source": [
    "sample = \"Hello World !!\""
   ]
  },
  {
   "cell_type": "code",
   "execution_count": 6,
   "metadata": {},
   "outputs": [
    {
     "data": {
      "text/plain": [
       "'Hello World !!'"
      ]
     },
     "execution_count": 6,
     "metadata": {},
     "output_type": "execute_result"
    }
   ],
   "source": [
    "sample"
   ]
  },
  {
   "cell_type": "code",
   "execution_count": 7,
   "metadata": {},
   "outputs": [
    {
     "data": {
      "text/plain": [
       "pandas.core.frame.DataFrame"
      ]
     },
     "execution_count": 7,
     "metadata": {},
     "output_type": "execute_result"
    }
   ],
   "source": [
    "type(df)"
   ]
  },
  {
   "cell_type": "code",
   "execution_count": 8,
   "metadata": {},
   "outputs": [
    {
     "data": {
      "text/html": [
       "<div>\n",
       "<style scoped>\n",
       "    .dataframe tbody tr th:only-of-type {\n",
       "        vertical-align: middle;\n",
       "    }\n",
       "\n",
       "    .dataframe tbody tr th {\n",
       "        vertical-align: top;\n",
       "    }\n",
       "\n",
       "    .dataframe thead th {\n",
       "        text-align: right;\n",
       "    }\n",
       "</style>\n",
       "<table border=\"1\" class=\"dataframe\">\n",
       "  <thead>\n",
       "    <tr style=\"text-align: right;\">\n",
       "      <th></th>\n",
       "      <th>図鑑番号</th>\n",
       "      <th>ポケモン名</th>\n",
       "      <th>タイプ１</th>\n",
       "      <th>タイプ２</th>\n",
       "      <th>通常特性１</th>\n",
       "      <th>通常特性２</th>\n",
       "      <th>夢特性</th>\n",
       "      <th>HP</th>\n",
       "      <th>こうげき</th>\n",
       "      <th>ぼうぎょ</th>\n",
       "      <th>とくこう</th>\n",
       "      <th>とくぼう</th>\n",
       "      <th>すばやさ</th>\n",
       "      <th>合計</th>\n",
       "    </tr>\n",
       "  </thead>\n",
       "  <tbody>\n",
       "    <tr>\n",
       "      <th>0</th>\n",
       "      <td>1</td>\n",
       "      <td>フシギダネ</td>\n",
       "      <td>くさ</td>\n",
       "      <td>どく</td>\n",
       "      <td>しんりょく</td>\n",
       "      <td>NaN</td>\n",
       "      <td>ようりょくそ</td>\n",
       "      <td>45</td>\n",
       "      <td>49</td>\n",
       "      <td>49</td>\n",
       "      <td>65</td>\n",
       "      <td>65</td>\n",
       "      <td>45</td>\n",
       "      <td>318</td>\n",
       "    </tr>\n",
       "    <tr>\n",
       "      <th>1</th>\n",
       "      <td>2</td>\n",
       "      <td>フシギソウ</td>\n",
       "      <td>くさ</td>\n",
       "      <td>どく</td>\n",
       "      <td>しんりょく</td>\n",
       "      <td>NaN</td>\n",
       "      <td>ようりょくそ</td>\n",
       "      <td>60</td>\n",
       "      <td>62</td>\n",
       "      <td>63</td>\n",
       "      <td>80</td>\n",
       "      <td>80</td>\n",
       "      <td>60</td>\n",
       "      <td>405</td>\n",
       "    </tr>\n",
       "    <tr>\n",
       "      <th>2</th>\n",
       "      <td>3</td>\n",
       "      <td>フシギバナ</td>\n",
       "      <td>くさ</td>\n",
       "      <td>どく</td>\n",
       "      <td>しんりょく</td>\n",
       "      <td>NaN</td>\n",
       "      <td>ようりょくそ</td>\n",
       "      <td>80</td>\n",
       "      <td>82</td>\n",
       "      <td>83</td>\n",
       "      <td>100</td>\n",
       "      <td>100</td>\n",
       "      <td>80</td>\n",
       "      <td>525</td>\n",
       "    </tr>\n",
       "    <tr>\n",
       "      <th>3</th>\n",
       "      <td>3</td>\n",
       "      <td>メガフシギバナ</td>\n",
       "      <td>くさ</td>\n",
       "      <td>どく</td>\n",
       "      <td>あついしぼう</td>\n",
       "      <td>NaN</td>\n",
       "      <td>NaN</td>\n",
       "      <td>80</td>\n",
       "      <td>100</td>\n",
       "      <td>123</td>\n",
       "      <td>122</td>\n",
       "      <td>120</td>\n",
       "      <td>80</td>\n",
       "      <td>625</td>\n",
       "    </tr>\n",
       "    <tr>\n",
       "      <th>4</th>\n",
       "      <td>4</td>\n",
       "      <td>ヒトカゲ</td>\n",
       "      <td>ほのお</td>\n",
       "      <td>NaN</td>\n",
       "      <td>もうか</td>\n",
       "      <td>NaN</td>\n",
       "      <td>サンパワー</td>\n",
       "      <td>39</td>\n",
       "      <td>52</td>\n",
       "      <td>43</td>\n",
       "      <td>60</td>\n",
       "      <td>50</td>\n",
       "      <td>65</td>\n",
       "      <td>309</td>\n",
       "    </tr>\n",
       "  </tbody>\n",
       "</table>\n",
       "</div>"
      ],
      "text/plain": [
       "   図鑑番号    ポケモン名 タイプ１ タイプ２   通常特性１ 通常特性２     夢特性  HP  こうげき  ぼうぎょ  とくこう  とくぼう  \\\n",
       "0     1    フシギダネ   くさ   どく   しんりょく   NaN  ようりょくそ  45    49    49    65    65   \n",
       "1     2    フシギソウ   くさ   どく   しんりょく   NaN  ようりょくそ  60    62    63    80    80   \n",
       "2     3    フシギバナ   くさ   どく   しんりょく   NaN  ようりょくそ  80    82    83   100   100   \n",
       "3     3  メガフシギバナ   くさ   どく  あついしぼう   NaN     NaN  80   100   123   122   120   \n",
       "4     4     ヒトカゲ  ほのお  NaN     もうか   NaN   サンパワー  39    52    43    60    50   \n",
       "\n",
       "   すばやさ   合計  \n",
       "0    45  318  \n",
       "1    60  405  \n",
       "2    80  525  \n",
       "3    80  625  \n",
       "4    65  309  "
      ]
     },
     "execution_count": 8,
     "metadata": {},
     "output_type": "execute_result"
    }
   ],
   "source": [
    "df.head()"
   ]
  },
  {
   "cell_type": "markdown",
   "metadata": {},
   "source": [
    "df.head():DataFrameの先頭5行を表示"
   ]
  },
  {
   "cell_type": "markdown",
   "metadata": {},
   "source": [
    "# 3.抽出"
   ]
  },
  {
   "cell_type": "markdown",
   "metadata": {},
   "source": [
    "### 3-1.番号による抽出"
   ]
  },
  {
   "cell_type": "markdown",
   "metadata": {},
   "source": [
    "- **行**の抽出"
   ]
  },
  {
   "cell_type": "markdown",
   "metadata": {},
   "source": [
    "### 行単品の抽出"
   ]
  },
  {
   "cell_type": "code",
   "execution_count": 9,
   "metadata": {
    "scrolled": false
   },
   "outputs": [
    {
     "data": {
      "text/html": [
       "<div>\n",
       "<style scoped>\n",
       "    .dataframe tbody tr th:only-of-type {\n",
       "        vertical-align: middle;\n",
       "    }\n",
       "\n",
       "    .dataframe tbody tr th {\n",
       "        vertical-align: top;\n",
       "    }\n",
       "\n",
       "    .dataframe thead th {\n",
       "        text-align: right;\n",
       "    }\n",
       "</style>\n",
       "<table border=\"1\" class=\"dataframe\">\n",
       "  <thead>\n",
       "    <tr style=\"text-align: right;\">\n",
       "      <th></th>\n",
       "      <th>図鑑番号</th>\n",
       "      <th>ポケモン名</th>\n",
       "      <th>タイプ１</th>\n",
       "      <th>タイプ２</th>\n",
       "      <th>通常特性１</th>\n",
       "      <th>通常特性２</th>\n",
       "      <th>夢特性</th>\n",
       "      <th>HP</th>\n",
       "      <th>こうげき</th>\n",
       "      <th>ぼうぎょ</th>\n",
       "      <th>とくこう</th>\n",
       "      <th>とくぼう</th>\n",
       "      <th>すばやさ</th>\n",
       "      <th>合計</th>\n",
       "    </tr>\n",
       "  </thead>\n",
       "  <tbody>\n",
       "    <tr>\n",
       "      <th>24</th>\n",
       "      <td>19</td>\n",
       "      <td>コラッタ</td>\n",
       "      <td>ノーマル</td>\n",
       "      <td>NaN</td>\n",
       "      <td>にげあし</td>\n",
       "      <td>こんじょう</td>\n",
       "      <td>はりきり</td>\n",
       "      <td>30</td>\n",
       "      <td>56</td>\n",
       "      <td>35</td>\n",
       "      <td>25</td>\n",
       "      <td>35</td>\n",
       "      <td>72</td>\n",
       "      <td>253</td>\n",
       "    </tr>\n",
       "  </tbody>\n",
       "</table>\n",
       "</div>"
      ],
      "text/plain": [
       "    図鑑番号 ポケモン名  タイプ１ タイプ２ 通常特性１  通常特性２   夢特性  HP  こうげき  ぼうぎょ  とくこう  とくぼう  \\\n",
       "24    19  コラッタ  ノーマル  NaN  にげあし  こんじょう  はりきり  30    56    35    25    35   \n",
       "\n",
       "    すばやさ   合計  \n",
       "24    72  253  "
      ]
     },
     "execution_count": 9,
     "metadata": {},
     "output_type": "execute_result"
    }
   ],
   "source": [
    "df[24:25]"
   ]
  },
  {
   "cell_type": "code",
   "execution_count": 10,
   "metadata": {},
   "outputs": [
    {
     "data": {
      "image/gif": "[encoded data removed]",
      "text/plain": [
       "<IPython.core.display.Image object>"
      ]
     },
     "execution_count": 10,
     "metadata": {},
     "output_type": "execute_result"
    }
   ],
   "source": [
    "from IPython.display import Image\n",
    "Image(\"https://sp3.raky.net/poke/icon96/n19.gif\")"
   ]
  },
  {
   "cell_type": "markdown",
   "metadata": {},
   "source": [
    "### 特定の範囲の行の抽出\n",
    "\n",
    "24行目～34行目の抽出"
   ]
  },
  {
   "cell_type": "code",
   "execution_count": 11,
   "metadata": {},
   "outputs": [
    {
     "data": {
      "text/html": [
       "<div>\n",
       "<style scoped>\n",
       "    .dataframe tbody tr th:only-of-type {\n",
       "        vertical-align: middle;\n",
       "    }\n",
       "\n",
       "    .dataframe tbody tr th {\n",
       "        vertical-align: top;\n",
       "    }\n",
       "\n",
       "    .dataframe thead th {\n",
       "        text-align: right;\n",
       "    }\n",
       "</style>\n",
       "<table border=\"1\" class=\"dataframe\">\n",
       "  <thead>\n",
       "    <tr style=\"text-align: right;\">\n",
       "      <th></th>\n",
       "      <th>図鑑番号</th>\n",
       "      <th>ポケモン名</th>\n",
       "      <th>タイプ１</th>\n",
       "      <th>タイプ２</th>\n",
       "      <th>通常特性１</th>\n",
       "      <th>通常特性２</th>\n",
       "      <th>夢特性</th>\n",
       "      <th>HP</th>\n",
       "      <th>こうげき</th>\n",
       "      <th>ぼうぎょ</th>\n",
       "      <th>とくこう</th>\n",
       "      <th>とくぼう</th>\n",
       "      <th>すばやさ</th>\n",
       "      <th>合計</th>\n",
       "    </tr>\n",
       "  </thead>\n",
       "  <tbody>\n",
       "    <tr>\n",
       "      <th>24</th>\n",
       "      <td>19</td>\n",
       "      <td>コラッタ</td>\n",
       "      <td>ノーマル</td>\n",
       "      <td>NaN</td>\n",
       "      <td>にげあし</td>\n",
       "      <td>こんじょう</td>\n",
       "      <td>はりきり</td>\n",
       "      <td>30</td>\n",
       "      <td>56</td>\n",
       "      <td>35</td>\n",
       "      <td>25</td>\n",
       "      <td>35</td>\n",
       "      <td>72</td>\n",
       "      <td>253</td>\n",
       "    </tr>\n",
       "    <tr>\n",
       "      <th>25</th>\n",
       "      <td>19</td>\n",
       "      <td>コラッタ(アローラのすがた)</td>\n",
       "      <td>あく</td>\n",
       "      <td>ノーマル</td>\n",
       "      <td>くいしんぼう</td>\n",
       "      <td>はりきり</td>\n",
       "      <td>あついしぼう</td>\n",
       "      <td>30</td>\n",
       "      <td>56</td>\n",
       "      <td>35</td>\n",
       "      <td>25</td>\n",
       "      <td>35</td>\n",
       "      <td>72</td>\n",
       "      <td>253</td>\n",
       "    </tr>\n",
       "    <tr>\n",
       "      <th>26</th>\n",
       "      <td>20</td>\n",
       "      <td>ラッタ</td>\n",
       "      <td>ノーマル</td>\n",
       "      <td>NaN</td>\n",
       "      <td>にげあし</td>\n",
       "      <td>こんじょう</td>\n",
       "      <td>はりきり</td>\n",
       "      <td>55</td>\n",
       "      <td>81</td>\n",
       "      <td>60</td>\n",
       "      <td>50</td>\n",
       "      <td>70</td>\n",
       "      <td>97</td>\n",
       "      <td>413</td>\n",
       "    </tr>\n",
       "    <tr>\n",
       "      <th>27</th>\n",
       "      <td>20</td>\n",
       "      <td>ラッタ(アローラのすがた)</td>\n",
       "      <td>あく</td>\n",
       "      <td>ノーマル</td>\n",
       "      <td>くいしんぼう</td>\n",
       "      <td>はりきり</td>\n",
       "      <td>あついしぼう</td>\n",
       "      <td>75</td>\n",
       "      <td>71</td>\n",
       "      <td>70</td>\n",
       "      <td>40</td>\n",
       "      <td>80</td>\n",
       "      <td>77</td>\n",
       "      <td>413</td>\n",
       "    </tr>\n",
       "    <tr>\n",
       "      <th>28</th>\n",
       "      <td>21</td>\n",
       "      <td>オニスズメ</td>\n",
       "      <td>ノーマル</td>\n",
       "      <td>ひこう</td>\n",
       "      <td>するどいめ</td>\n",
       "      <td>NaN</td>\n",
       "      <td>スナイパー</td>\n",
       "      <td>40</td>\n",
       "      <td>60</td>\n",
       "      <td>30</td>\n",
       "      <td>31</td>\n",
       "      <td>31</td>\n",
       "      <td>70</td>\n",
       "      <td>262</td>\n",
       "    </tr>\n",
       "    <tr>\n",
       "      <th>29</th>\n",
       "      <td>22</td>\n",
       "      <td>オニドリル</td>\n",
       "      <td>ノーマル</td>\n",
       "      <td>ひこう</td>\n",
       "      <td>するどいめ</td>\n",
       "      <td>NaN</td>\n",
       "      <td>スナイパー</td>\n",
       "      <td>65</td>\n",
       "      <td>90</td>\n",
       "      <td>65</td>\n",
       "      <td>61</td>\n",
       "      <td>61</td>\n",
       "      <td>100</td>\n",
       "      <td>442</td>\n",
       "    </tr>\n",
       "    <tr>\n",
       "      <th>30</th>\n",
       "      <td>23</td>\n",
       "      <td>アーボ</td>\n",
       "      <td>どく</td>\n",
       "      <td>NaN</td>\n",
       "      <td>いかく</td>\n",
       "      <td>だっぴ</td>\n",
       "      <td>きんちょうかん</td>\n",
       "      <td>35</td>\n",
       "      <td>60</td>\n",
       "      <td>44</td>\n",
       "      <td>40</td>\n",
       "      <td>54</td>\n",
       "      <td>55</td>\n",
       "      <td>288</td>\n",
       "    </tr>\n",
       "    <tr>\n",
       "      <th>31</th>\n",
       "      <td>24</td>\n",
       "      <td>アーボック</td>\n",
       "      <td>どく</td>\n",
       "      <td>NaN</td>\n",
       "      <td>いかく</td>\n",
       "      <td>だっぴ</td>\n",
       "      <td>きんちょうかん</td>\n",
       "      <td>60</td>\n",
       "      <td>95</td>\n",
       "      <td>69</td>\n",
       "      <td>65</td>\n",
       "      <td>79</td>\n",
       "      <td>80</td>\n",
       "      <td>448</td>\n",
       "    </tr>\n",
       "    <tr>\n",
       "      <th>32</th>\n",
       "      <td>25</td>\n",
       "      <td>ピカチュウ</td>\n",
       "      <td>でんき</td>\n",
       "      <td>NaN</td>\n",
       "      <td>せいでんき</td>\n",
       "      <td>NaN</td>\n",
       "      <td>ひらいしん</td>\n",
       "      <td>35</td>\n",
       "      <td>55</td>\n",
       "      <td>40</td>\n",
       "      <td>50</td>\n",
       "      <td>50</td>\n",
       "      <td>90</td>\n",
       "      <td>320</td>\n",
       "    </tr>\n",
       "    <tr>\n",
       "      <th>33</th>\n",
       "      <td>25</td>\n",
       "      <td>ピカチュウ(相棒)</td>\n",
       "      <td>でんき</td>\n",
       "      <td>NaN</td>\n",
       "      <td>NaN</td>\n",
       "      <td>NaN</td>\n",
       "      <td>NaN</td>\n",
       "      <td>45</td>\n",
       "      <td>80</td>\n",
       "      <td>50</td>\n",
       "      <td>75</td>\n",
       "      <td>60</td>\n",
       "      <td>120</td>\n",
       "      <td>430</td>\n",
       "    </tr>\n",
       "  </tbody>\n",
       "</table>\n",
       "</div>"
      ],
      "text/plain": [
       "    図鑑番号           ポケモン名  タイプ１  タイプ２   通常特性１  通常特性２      夢特性  HP  こうげき  ぼうぎょ  \\\n",
       "24    19            コラッタ  ノーマル   NaN    にげあし  こんじょう     はりきり  30    56    35   \n",
       "25    19  コラッタ(アローラのすがた)    あく  ノーマル  くいしんぼう   はりきり   あついしぼう  30    56    35   \n",
       "26    20             ラッタ  ノーマル   NaN    にげあし  こんじょう     はりきり  55    81    60   \n",
       "27    20   ラッタ(アローラのすがた)    あく  ノーマル  くいしんぼう   はりきり   あついしぼう  75    71    70   \n",
       "28    21           オニスズメ  ノーマル   ひこう   するどいめ    NaN    スナイパー  40    60    30   \n",
       "29    22           オニドリル  ノーマル   ひこう   するどいめ    NaN    スナイパー  65    90    65   \n",
       "30    23             アーボ    どく   NaN     いかく    だっぴ  きんちょうかん  35    60    44   \n",
       "31    24           アーボック    どく   NaN     いかく    だっぴ  きんちょうかん  60    95    69   \n",
       "32    25           ピカチュウ   でんき   NaN   せいでんき    NaN    ひらいしん  35    55    40   \n",
       "33    25       ピカチュウ(相棒)   でんき   NaN     NaN    NaN      NaN  45    80    50   \n",
       "\n",
       "    とくこう  とくぼう  すばやさ   合計  \n",
       "24    25    35    72  253  \n",
       "25    25    35    72  253  \n",
       "26    50    70    97  413  \n",
       "27    40    80    77  413  \n",
       "28    31    31    70  262  \n",
       "29    61    61   100  442  \n",
       "30    40    54    55  288  \n",
       "31    65    79    80  448  \n",
       "32    50    50    90  320  \n",
       "33    75    60   120  430  "
      ]
     },
     "execution_count": 11,
     "metadata": {},
     "output_type": "execute_result"
    }
   ],
   "source": [
    "df[24:34]"
   ]
  },
  {
   "cell_type": "markdown",
   "metadata": {},
   "source": [
    "df\\[ start : end（ただしendは含まず、endの1個手前までが指定される）] "
   ]
  },
  {
   "cell_type": "code",
   "execution_count": 12,
   "metadata": {},
   "outputs": [
    {
     "data": {
      "text/html": [
       "<div>\n",
       "<style scoped>\n",
       "    .dataframe tbody tr th:only-of-type {\n",
       "        vertical-align: middle;\n",
       "    }\n",
       "\n",
       "    .dataframe tbody tr th {\n",
       "        vertical-align: top;\n",
       "    }\n",
       "\n",
       "    .dataframe thead th {\n",
       "        text-align: right;\n",
       "    }\n",
       "</style>\n",
       "<table border=\"1\" class=\"dataframe\">\n",
       "  <thead>\n",
       "    <tr style=\"text-align: right;\">\n",
       "      <th></th>\n",
       "      <th>図鑑番号</th>\n",
       "      <th>ポケモン名</th>\n",
       "      <th>タイプ１</th>\n",
       "      <th>タイプ２</th>\n",
       "      <th>通常特性１</th>\n",
       "      <th>通常特性２</th>\n",
       "      <th>夢特性</th>\n",
       "      <th>HP</th>\n",
       "      <th>こうげき</th>\n",
       "      <th>ぼうぎょ</th>\n",
       "      <th>とくこう</th>\n",
       "      <th>とくぼう</th>\n",
       "      <th>すばやさ</th>\n",
       "      <th>合計</th>\n",
       "    </tr>\n",
       "  </thead>\n",
       "  <tbody>\n",
       "    <tr>\n",
       "      <th>24</th>\n",
       "      <td>19</td>\n",
       "      <td>コラッタ</td>\n",
       "      <td>ノーマル</td>\n",
       "      <td>NaN</td>\n",
       "      <td>にげあし</td>\n",
       "      <td>こんじょう</td>\n",
       "      <td>はりきり</td>\n",
       "      <td>30</td>\n",
       "      <td>56</td>\n",
       "      <td>35</td>\n",
       "      <td>25</td>\n",
       "      <td>35</td>\n",
       "      <td>72</td>\n",
       "      <td>253</td>\n",
       "    </tr>\n",
       "    <tr>\n",
       "      <th>25</th>\n",
       "      <td>19</td>\n",
       "      <td>コラッタ(アローラのすがた)</td>\n",
       "      <td>あく</td>\n",
       "      <td>ノーマル</td>\n",
       "      <td>くいしんぼう</td>\n",
       "      <td>はりきり</td>\n",
       "      <td>あついしぼう</td>\n",
       "      <td>30</td>\n",
       "      <td>56</td>\n",
       "      <td>35</td>\n",
       "      <td>25</td>\n",
       "      <td>35</td>\n",
       "      <td>72</td>\n",
       "      <td>253</td>\n",
       "    </tr>\n",
       "    <tr>\n",
       "      <th>26</th>\n",
       "      <td>20</td>\n",
       "      <td>ラッタ</td>\n",
       "      <td>ノーマル</td>\n",
       "      <td>NaN</td>\n",
       "      <td>にげあし</td>\n",
       "      <td>こんじょう</td>\n",
       "      <td>はりきり</td>\n",
       "      <td>55</td>\n",
       "      <td>81</td>\n",
       "      <td>60</td>\n",
       "      <td>50</td>\n",
       "      <td>70</td>\n",
       "      <td>97</td>\n",
       "      <td>413</td>\n",
       "    </tr>\n",
       "    <tr>\n",
       "      <th>27</th>\n",
       "      <td>20</td>\n",
       "      <td>ラッタ(アローラのすがた)</td>\n",
       "      <td>あく</td>\n",
       "      <td>ノーマル</td>\n",
       "      <td>くいしんぼう</td>\n",
       "      <td>はりきり</td>\n",
       "      <td>あついしぼう</td>\n",
       "      <td>75</td>\n",
       "      <td>71</td>\n",
       "      <td>70</td>\n",
       "      <td>40</td>\n",
       "      <td>80</td>\n",
       "      <td>77</td>\n",
       "      <td>413</td>\n",
       "    </tr>\n",
       "    <tr>\n",
       "      <th>28</th>\n",
       "      <td>21</td>\n",
       "      <td>オニスズメ</td>\n",
       "      <td>ノーマル</td>\n",
       "      <td>ひこう</td>\n",
       "      <td>するどいめ</td>\n",
       "      <td>NaN</td>\n",
       "      <td>スナイパー</td>\n",
       "      <td>40</td>\n",
       "      <td>60</td>\n",
       "      <td>30</td>\n",
       "      <td>31</td>\n",
       "      <td>31</td>\n",
       "      <td>70</td>\n",
       "      <td>262</td>\n",
       "    </tr>\n",
       "    <tr>\n",
       "      <th>29</th>\n",
       "      <td>22</td>\n",
       "      <td>オニドリル</td>\n",
       "      <td>ノーマル</td>\n",
       "      <td>ひこう</td>\n",
       "      <td>するどいめ</td>\n",
       "      <td>NaN</td>\n",
       "      <td>スナイパー</td>\n",
       "      <td>65</td>\n",
       "      <td>90</td>\n",
       "      <td>65</td>\n",
       "      <td>61</td>\n",
       "      <td>61</td>\n",
       "      <td>100</td>\n",
       "      <td>442</td>\n",
       "    </tr>\n",
       "    <tr>\n",
       "      <th>30</th>\n",
       "      <td>23</td>\n",
       "      <td>アーボ</td>\n",
       "      <td>どく</td>\n",
       "      <td>NaN</td>\n",
       "      <td>いかく</td>\n",
       "      <td>だっぴ</td>\n",
       "      <td>きんちょうかん</td>\n",
       "      <td>35</td>\n",
       "      <td>60</td>\n",
       "      <td>44</td>\n",
       "      <td>40</td>\n",
       "      <td>54</td>\n",
       "      <td>55</td>\n",
       "      <td>288</td>\n",
       "    </tr>\n",
       "    <tr>\n",
       "      <th>31</th>\n",
       "      <td>24</td>\n",
       "      <td>アーボック</td>\n",
       "      <td>どく</td>\n",
       "      <td>NaN</td>\n",
       "      <td>いかく</td>\n",
       "      <td>だっぴ</td>\n",
       "      <td>きんちょうかん</td>\n",
       "      <td>60</td>\n",
       "      <td>95</td>\n",
       "      <td>69</td>\n",
       "      <td>65</td>\n",
       "      <td>79</td>\n",
       "      <td>80</td>\n",
       "      <td>448</td>\n",
       "    </tr>\n",
       "    <tr>\n",
       "      <th>32</th>\n",
       "      <td>25</td>\n",
       "      <td>ピカチュウ</td>\n",
       "      <td>でんき</td>\n",
       "      <td>NaN</td>\n",
       "      <td>せいでんき</td>\n",
       "      <td>NaN</td>\n",
       "      <td>ひらいしん</td>\n",
       "      <td>35</td>\n",
       "      <td>55</td>\n",
       "      <td>40</td>\n",
       "      <td>50</td>\n",
       "      <td>50</td>\n",
       "      <td>90</td>\n",
       "      <td>320</td>\n",
       "    </tr>\n",
       "    <tr>\n",
       "      <th>33</th>\n",
       "      <td>25</td>\n",
       "      <td>ピカチュウ(相棒)</td>\n",
       "      <td>でんき</td>\n",
       "      <td>NaN</td>\n",
       "      <td>NaN</td>\n",
       "      <td>NaN</td>\n",
       "      <td>NaN</td>\n",
       "      <td>45</td>\n",
       "      <td>80</td>\n",
       "      <td>50</td>\n",
       "      <td>75</td>\n",
       "      <td>60</td>\n",
       "      <td>120</td>\n",
       "      <td>430</td>\n",
       "    </tr>\n",
       "    <tr>\n",
       "      <th>34</th>\n",
       "      <td>26</td>\n",
       "      <td>ライチュウ</td>\n",
       "      <td>でんき</td>\n",
       "      <td>NaN</td>\n",
       "      <td>せいでんき</td>\n",
       "      <td>NaN</td>\n",
       "      <td>ひらいしん</td>\n",
       "      <td>60</td>\n",
       "      <td>90</td>\n",
       "      <td>55</td>\n",
       "      <td>90</td>\n",
       "      <td>80</td>\n",
       "      <td>110</td>\n",
       "      <td>485</td>\n",
       "    </tr>\n",
       "  </tbody>\n",
       "</table>\n",
       "</div>"
      ],
      "text/plain": [
       "    図鑑番号           ポケモン名  タイプ１  タイプ２   通常特性１  通常特性２      夢特性  HP  こうげき  ぼうぎょ  \\\n",
       "24    19            コラッタ  ノーマル   NaN    にげあし  こんじょう     はりきり  30    56    35   \n",
       "25    19  コラッタ(アローラのすがた)    あく  ノーマル  くいしんぼう   はりきり   あついしぼう  30    56    35   \n",
       "26    20             ラッタ  ノーマル   NaN    にげあし  こんじょう     はりきり  55    81    60   \n",
       "27    20   ラッタ(アローラのすがた)    あく  ノーマル  くいしんぼう   はりきり   あついしぼう  75    71    70   \n",
       "28    21           オニスズメ  ノーマル   ひこう   するどいめ    NaN    スナイパー  40    60    30   \n",
       "29    22           オニドリル  ノーマル   ひこう   するどいめ    NaN    スナイパー  65    90    65   \n",
       "30    23             アーボ    どく   NaN     いかく    だっぴ  きんちょうかん  35    60    44   \n",
       "31    24           アーボック    どく   NaN     いかく    だっぴ  きんちょうかん  60    95    69   \n",
       "32    25           ピカチュウ   でんき   NaN   せいでんき    NaN    ひらいしん  35    55    40   \n",
       "33    25       ピカチュウ(相棒)   でんき   NaN     NaN    NaN      NaN  45    80    50   \n",
       "34    26           ライチュウ   でんき   NaN   せいでんき    NaN    ひらいしん  60    90    55   \n",
       "\n",
       "    とくこう  とくぼう  すばやさ   合計  \n",
       "24    25    35    72  253  \n",
       "25    25    35    72  253  \n",
       "26    50    70    97  413  \n",
       "27    40    80    77  413  \n",
       "28    31    31    70  262  \n",
       "29    61    61   100  442  \n",
       "30    40    54    55  288  \n",
       "31    65    79    80  448  \n",
       "32    50    50    90  320  \n",
       "33    75    60   120  430  \n",
       "34    90    80   110  485  "
      ]
     },
     "execution_count": 12,
     "metadata": {},
     "output_type": "execute_result"
    }
   ],
   "source": [
    "df[24:35]"
   ]
  },
  {
   "cell_type": "markdown",
   "metadata": {},
   "source": [
    "### 3-2.名前による抽出\n",
    "  - **列**の抽出"
   ]
  },
  {
   "cell_type": "code",
   "execution_count": 13,
   "metadata": {
    "scrolled": true
   },
   "outputs": [
    {
     "data": {
      "text/plain": [
       "0                    フシギダネ\n",
       "1                    フシギソウ\n",
       "2                    フシギバナ\n",
       "3                  メガフシギバナ\n",
       "4                     ヒトカゲ\n",
       "               ...        \n",
       "1034                 ブリザポス\n",
       "1035                 レイスポス\n",
       "1036                バドレックス\n",
       "1037    バドレックス(はくばじょうのすがた)\n",
       "1038    バドレックス(こくばじょうのすがた)\n",
       "Name: ポケモン名, Length: 1039, dtype: object"
      ]
     },
     "execution_count": 13,
     "metadata": {},
     "output_type": "execute_result"
    }
   ],
   "source": [
    "name = df[\"ポケモン名\"]\n",
    "name"
   ]
  },
  {
   "cell_type": "code",
   "execution_count": 14,
   "metadata": {},
   "outputs": [
    {
     "data": {
      "text/plain": [
       "pandas.core.series.Series"
      ]
     },
     "execution_count": 14,
     "metadata": {},
     "output_type": "execute_result"
    }
   ],
   "source": [
    "type(name)"
   ]
  },
  {
   "cell_type": "code",
   "execution_count": 15,
   "metadata": {},
   "outputs": [
    {
     "ename": "KeyError",
     "evalue": "('ポケモン名', 'タイプ１', 'タイプ2')",
     "output_type": "error",
     "traceback": [
      "\u001b[1;31m---------------------------------------------------------------------------\u001b[0m",
      "\u001b[1;31mKeyError\u001b[0m                                  Traceback (most recent call last)",
      "\u001b[1;32mC:\\ProgramData\\Anaconda3\\lib\\site-packages\\pandas\\core\\indexes\\base.py\u001b[0m in \u001b[0;36mget_loc\u001b[1;34m(self, key, method, tolerance)\u001b[0m\n\u001b[0;32m   2645\u001b[0m             \u001b[1;32mtry\u001b[0m\u001b[1;33m:\u001b[0m\u001b[1;33m\u001b[0m\u001b[1;33m\u001b[0m\u001b[0m\n\u001b[1;32m-> 2646\u001b[1;33m                 \u001b[1;32mreturn\u001b[0m \u001b[0mself\u001b[0m\u001b[1;33m.\u001b[0m\u001b[0m_engine\u001b[0m\u001b[1;33m.\u001b[0m\u001b[0mget_loc\u001b[0m\u001b[1;33m(\u001b[0m\u001b[0mkey\u001b[0m\u001b[1;33m)\u001b[0m\u001b[1;33m\u001b[0m\u001b[1;33m\u001b[0m\u001b[0m\n\u001b[0m\u001b[0;32m   2647\u001b[0m             \u001b[1;32mexcept\u001b[0m \u001b[0mKeyError\u001b[0m\u001b[1;33m:\u001b[0m\u001b[1;33m\u001b[0m\u001b[1;33m\u001b[0m\u001b[0m\n",
      "\u001b[1;32mpandas\\_libs\\index.pyx\u001b[0m in \u001b[0;36mpandas._libs.index.IndexEngine.get_loc\u001b[1;34m()\u001b[0m\n",
      "\u001b[1;32mpandas\\_libs\\index.pyx\u001b[0m in \u001b[0;36mpandas._libs.index.IndexEngine.get_loc\u001b[1;34m()\u001b[0m\n",
      "\u001b[1;32mpandas\\_libs\\hashtable_class_helper.pxi\u001b[0m in \u001b[0;36mpandas._libs.hashtable.PyObjectHashTable.get_item\u001b[1;34m()\u001b[0m\n",
      "\u001b[1;32mpandas\\_libs\\hashtable_class_helper.pxi\u001b[0m in \u001b[0;36mpandas._libs.hashtable.PyObjectHashTable.get_item\u001b[1;34m()\u001b[0m\n",
      "\u001b[1;31mKeyError\u001b[0m: ('ポケモン名', 'タイプ１', 'タイプ2')",
      "\nDuring handling of the above exception, another exception occurred:\n",
      "\u001b[1;31mKeyError\u001b[0m                                  Traceback (most recent call last)",
      "\u001b[1;32m<ipython-input-15-a76e6d91c81b>\u001b[0m in \u001b[0;36m<module>\u001b[1;34m\u001b[0m\n\u001b[1;32m----> 1\u001b[1;33m \u001b[0mdf\u001b[0m\u001b[1;33m[\u001b[0m\u001b[1;34m\"ポケモン名\"\u001b[0m\u001b[1;33m,\u001b[0m\u001b[1;34m\"タイプ１\"\u001b[0m\u001b[1;33m,\u001b[0m\u001b[1;34m\"タイプ2\"\u001b[0m\u001b[1;33m]\u001b[0m\u001b[1;33m\u001b[0m\u001b[1;33m\u001b[0m\u001b[0m\n\u001b[0m",
      "\u001b[1;32mC:\\ProgramData\\Anaconda3\\lib\\site-packages\\pandas\\core\\frame.py\u001b[0m in \u001b[0;36m__getitem__\u001b[1;34m(self, key)\u001b[0m\n\u001b[0;32m   2798\u001b[0m             \u001b[1;32mif\u001b[0m \u001b[0mself\u001b[0m\u001b[1;33m.\u001b[0m\u001b[0mcolumns\u001b[0m\u001b[1;33m.\u001b[0m\u001b[0mnlevels\u001b[0m \u001b[1;33m>\u001b[0m \u001b[1;36m1\u001b[0m\u001b[1;33m:\u001b[0m\u001b[1;33m\u001b[0m\u001b[1;33m\u001b[0m\u001b[0m\n\u001b[0;32m   2799\u001b[0m                 \u001b[1;32mreturn\u001b[0m \u001b[0mself\u001b[0m\u001b[1;33m.\u001b[0m\u001b[0m_getitem_multilevel\u001b[0m\u001b[1;33m(\u001b[0m\u001b[0mkey\u001b[0m\u001b[1;33m)\u001b[0m\u001b[1;33m\u001b[0m\u001b[1;33m\u001b[0m\u001b[0m\n\u001b[1;32m-> 2800\u001b[1;33m             \u001b[0mindexer\u001b[0m \u001b[1;33m=\u001b[0m \u001b[0mself\u001b[0m\u001b[1;33m.\u001b[0m\u001b[0mcolumns\u001b[0m\u001b[1;33m.\u001b[0m\u001b[0mget_loc\u001b[0m\u001b[1;33m(\u001b[0m\u001b[0mkey\u001b[0m\u001b[1;33m)\u001b[0m\u001b[1;33m\u001b[0m\u001b[1;33m\u001b[0m\u001b[0m\n\u001b[0m\u001b[0;32m   2801\u001b[0m             \u001b[1;32mif\u001b[0m \u001b[0mis_integer\u001b[0m\u001b[1;33m(\u001b[0m\u001b[0mindexer\u001b[0m\u001b[1;33m)\u001b[0m\u001b[1;33m:\u001b[0m\u001b[1;33m\u001b[0m\u001b[1;33m\u001b[0m\u001b[0m\n\u001b[0;32m   2802\u001b[0m                 \u001b[0mindexer\u001b[0m \u001b[1;33m=\u001b[0m \u001b[1;33m[\u001b[0m\u001b[0mindexer\u001b[0m\u001b[1;33m]\u001b[0m\u001b[1;33m\u001b[0m\u001b[1;33m\u001b[0m\u001b[0m\n",
      "\u001b[1;32mC:\\ProgramData\\Anaconda3\\lib\\site-packages\\pandas\\core\\indexes\\base.py\u001b[0m in \u001b[0;36mget_loc\u001b[1;34m(self, key, method, tolerance)\u001b[0m\n\u001b[0;32m   2646\u001b[0m                 \u001b[1;32mreturn\u001b[0m \u001b[0mself\u001b[0m\u001b[1;33m.\u001b[0m\u001b[0m_engine\u001b[0m\u001b[1;33m.\u001b[0m\u001b[0mget_loc\u001b[0m\u001b[1;33m(\u001b[0m\u001b[0mkey\u001b[0m\u001b[1;33m)\u001b[0m\u001b[1;33m\u001b[0m\u001b[1;33m\u001b[0m\u001b[0m\n\u001b[0;32m   2647\u001b[0m             \u001b[1;32mexcept\u001b[0m \u001b[0mKeyError\u001b[0m\u001b[1;33m:\u001b[0m\u001b[1;33m\u001b[0m\u001b[1;33m\u001b[0m\u001b[0m\n\u001b[1;32m-> 2648\u001b[1;33m                 \u001b[1;32mreturn\u001b[0m \u001b[0mself\u001b[0m\u001b[1;33m.\u001b[0m\u001b[0m_engine\u001b[0m\u001b[1;33m.\u001b[0m\u001b[0mget_loc\u001b[0m\u001b[1;33m(\u001b[0m\u001b[0mself\u001b[0m\u001b[1;33m.\u001b[0m\u001b[0m_maybe_cast_indexer\u001b[0m\u001b[1;33m(\u001b[0m\u001b[0mkey\u001b[0m\u001b[1;33m)\u001b[0m\u001b[1;33m)\u001b[0m\u001b[1;33m\u001b[0m\u001b[1;33m\u001b[0m\u001b[0m\n\u001b[0m\u001b[0;32m   2649\u001b[0m         \u001b[0mindexer\u001b[0m \u001b[1;33m=\u001b[0m \u001b[0mself\u001b[0m\u001b[1;33m.\u001b[0m\u001b[0mget_indexer\u001b[0m\u001b[1;33m(\u001b[0m\u001b[1;33m[\u001b[0m\u001b[0mkey\u001b[0m\u001b[1;33m]\u001b[0m\u001b[1;33m,\u001b[0m \u001b[0mmethod\u001b[0m\u001b[1;33m=\u001b[0m\u001b[0mmethod\u001b[0m\u001b[1;33m,\u001b[0m \u001b[0mtolerance\u001b[0m\u001b[1;33m=\u001b[0m\u001b[0mtolerance\u001b[0m\u001b[1;33m)\u001b[0m\u001b[1;33m\u001b[0m\u001b[1;33m\u001b[0m\u001b[0m\n\u001b[0;32m   2650\u001b[0m         \u001b[1;32mif\u001b[0m \u001b[0mindexer\u001b[0m\u001b[1;33m.\u001b[0m\u001b[0mndim\u001b[0m \u001b[1;33m>\u001b[0m \u001b[1;36m1\u001b[0m \u001b[1;32mor\u001b[0m \u001b[0mindexer\u001b[0m\u001b[1;33m.\u001b[0m\u001b[0msize\u001b[0m \u001b[1;33m>\u001b[0m \u001b[1;36m1\u001b[0m\u001b[1;33m:\u001b[0m\u001b[1;33m\u001b[0m\u001b[1;33m\u001b[0m\u001b[0m\n",
      "\u001b[1;32mpandas\\_libs\\index.pyx\u001b[0m in \u001b[0;36mpandas._libs.index.IndexEngine.get_loc\u001b[1;34m()\u001b[0m\n",
      "\u001b[1;32mpandas\\_libs\\index.pyx\u001b[0m in \u001b[0;36mpandas._libs.index.IndexEngine.get_loc\u001b[1;34m()\u001b[0m\n",
      "\u001b[1;32mpandas\\_libs\\hashtable_class_helper.pxi\u001b[0m in \u001b[0;36mpandas._libs.hashtable.PyObjectHashTable.get_item\u001b[1;34m()\u001b[0m\n",
      "\u001b[1;32mpandas\\_libs\\hashtable_class_helper.pxi\u001b[0m in \u001b[0;36mpandas._libs.hashtable.PyObjectHashTable.get_item\u001b[1;34m()\u001b[0m\n",
      "\u001b[1;31mKeyError\u001b[0m: ('ポケモン名', 'タイプ１', 'タイプ2')"
     ]
    }
   ],
   "source": [
    "df[\"ポケモン名\",\"タイプ１\",\"タイプ2\"]"
   ]
  },
  {
   "cell_type": "code",
   "execution_count": null,
   "metadata": {},
   "outputs": [],
   "source": [
    "df[ [\"ポケモン名\",\"タイプ１\",\"タイプ２\"] ]"
   ]
  },
  {
   "cell_type": "markdown",
   "metadata": {},
   "source": [
    "df\\[ \\[ リスト \\] \\]"
   ]
  },
  {
   "cell_type": "code",
   "execution_count": null,
   "metadata": {},
   "outputs": [],
   "source": [
    "df[24:35]"
   ]
  },
  {
   "cell_type": "markdown",
   "metadata": {},
   "source": [
    "df\\[ start : end : 間隔 \\]"
   ]
  },
  {
   "cell_type": "code",
   "execution_count": null,
   "metadata": {},
   "outputs": [],
   "source": [
    "df[24:35]"
   ]
  },
  {
   "cell_type": "markdown",
   "metadata": {},
   "source": [
    "- **行**の抽出"
   ]
  },
  {
   "cell_type": "code",
   "execution_count": null,
   "metadata": {},
   "outputs": [],
   "source": [
    "df_index_name = df.set_index(\"ポケモン名\")\n",
    "df_index_name.head()"
   ]
  },
  {
   "cell_type": "code",
   "execution_count": null,
   "metadata": {},
   "outputs": [],
   "source": [
    "df_index_name2 = df.set_index(\"ポケモン名\" , drop = False)\n",
    "\n",
    "df_index_name2"
   ]
  },
  {
   "cell_type": "markdown",
   "metadata": {},
   "source": [
    "## 要素の抽出\n",
    "\n",
    "### 単独の値の指定\n",
    "at(名前で指定),iat(番号で指定)\n",
    "\n",
    "### 特定範囲の値の指定\n",
    "loc(名前で指定),iloc(番号で指定)"
   ]
  },
  {
   "cell_type": "markdown",
   "metadata": {},
   "source": [
    "行名,列名での指定"
   ]
  },
  {
   "cell_type": "code",
   "execution_count": null,
   "metadata": {
    "scrolled": true
   },
   "outputs": [],
   "source": [
    "df_index_name2.at[\"ピカチュウ\",\"タイプ１\"]"
   ]
  },
  {
   "cell_type": "markdown",
   "metadata": {},
   "source": [
    "行番号,列番号での指定"
   ]
  },
  {
   "cell_type": "code",
   "execution_count": null,
   "metadata": {},
   "outputs": [],
   "source": [
    "df_index_name2.iat[45,1]"
   ]
  },
  {
   "cell_type": "code",
   "execution_count": null,
   "metadata": {},
   "outputs": [],
   "source": [
    "from IPython.display import Image\n",
    "Image(\"https://sp3.raky.net/poke/icon96/n34.gif\")"
   ]
  },
  {
   "cell_type": "markdown",
   "metadata": {},
   "source": [
    "行名,列名での指定"
   ]
  },
  {
   "cell_type": "code",
   "execution_count": null,
   "metadata": {},
   "outputs": [],
   "source": [
    "df_index_name2.loc[\"ピカチュウ\",\"タイプ１\"]"
   ]
  },
  {
   "cell_type": "markdown",
   "metadata": {},
   "source": [
    "列名の組み合わせでの指定"
   ]
  },
  {
   "cell_type": "code",
   "execution_count": null,
   "metadata": {},
   "outputs": [],
   "source": [
    "df_index_name2.loc[\"フシギバナ\",[\"タイプ１\",\"タイプ２\"]]"
   ]
  },
  {
   "cell_type": "markdown",
   "metadata": {},
   "source": [
    "列の範囲での指定"
   ]
  },
  {
   "cell_type": "code",
   "execution_count": null,
   "metadata": {
    "scrolled": true
   },
   "outputs": [],
   "source": [
    "df_index_name2.loc[\"フシギバナ\",\"図鑑番号\":\"タイプ２\"]"
   ]
  },
  {
   "cell_type": "markdown",
   "metadata": {},
   "source": [
    "列名,行名での範囲指定"
   ]
  },
  {
   "cell_type": "code",
   "execution_count": null,
   "metadata": {},
   "outputs": [],
   "source": [
    "df_index_name2.loc[\"フシギバナ\":\"ピカチュウ\",\"図鑑番号\":\"タイプ２\"]"
   ]
  },
  {
   "cell_type": "code",
   "execution_count": null,
   "metadata": {},
   "outputs": [],
   "source": [
    "df_index_name2.loc[\"フシギバナ\":\"ピカチュウ\",\"タイプ２\"]"
   ]
  },
  {
   "cell_type": "code",
   "execution_count": null,
   "metadata": {
    "scrolled": true
   },
   "outputs": [],
   "source": [
    "df_index_name2.loc[\"ピカチュウ\",:]"
   ]
  },
  {
   "cell_type": "code",
   "execution_count": null,
   "metadata": {},
   "outputs": [],
   "source": [
    "type(df_index_name2.loc[\"ピカチュウ\",:])"
   ]
  },
  {
   "cell_type": "code",
   "execution_count": null,
   "metadata": {},
   "outputs": [],
   "source": [
    "pd.DataFrame(df_index_name2.loc[\"ピカチュウ\",:])"
   ]
  },
  {
   "cell_type": "code",
   "execution_count": null,
   "metadata": {},
   "outputs": [],
   "source": [
    "pd.DataFrame(df_index_name2.loc[\"ピカチュウ\",:]).T"
   ]
  },
  {
   "cell_type": "markdown",
   "metadata": {},
   "source": [
    "# 6.要素に対する操作\n",
    "  - ### 6-1.要素の置換・更新"
   ]
  },
  {
   "cell_type": "code",
   "execution_count": null,
   "metadata": {},
   "outputs": [],
   "source": [
    "df_index_name2_update = df_index_name2\n",
    "df_index_name2_update"
   ]
  },
  {
   "cell_type": "code",
   "execution_count": null,
   "metadata": {},
   "outputs": [],
   "source": [
    "df_index_name2_update.at[\"ピカチュウ\",\"タイプ１\"]"
   ]
  },
  {
   "cell_type": "code",
   "execution_count": null,
   "metadata": {},
   "outputs": [],
   "source": [
    "df_index_name2_update.at[\"ピカチュウ\",\"タイプ２\"]"
   ]
  },
  {
   "cell_type": "code",
   "execution_count": null,
   "metadata": {},
   "outputs": [],
   "source": [
    "df_index_name2_update.at[\"ピカチュウ\",\"タイプ２\"] = \"かくとう\""
   ]
  },
  {
   "cell_type": "code",
   "execution_count": null,
   "metadata": {},
   "outputs": [],
   "source": [
    "df_index_name2_update.at[\"ピカチュウ\",\"タイプ２\"]"
   ]
  },
  {
   "cell_type": "markdown",
   "metadata": {},
   "source": [
    "replace"
   ]
  },
  {
   "cell_type": "code",
   "execution_count": null,
   "metadata": {},
   "outputs": [],
   "source": [
    "df_index_name2_update.replace(\"どく\",\"フェアリー\")"
   ]
  },
  {
   "cell_type": "markdown",
   "metadata": {},
   "source": [
    "fillna"
   ]
  },
  {
   "cell_type": "code",
   "execution_count": null,
   "metadata": {},
   "outputs": [],
   "source": [
    "df_index_name2_update.fillna(\"ひこう\")"
   ]
  },
  {
   "cell_type": "code",
   "execution_count": null,
   "metadata": {},
   "outputs": [],
   "source": [
    "df_index_name2_update2 = df_index_name2\n",
    "df_index_name2_update2.fillna({\"タイプ２\":\"ひこう\"})"
   ]
  },
  {
   "cell_type": "markdown",
   "metadata": {},
   "source": [
    "NaN : 欠損値\n",
    "\n",
    "欠損値の処理：AI・機械学習でだいじ！！"
   ]
  },
  {
   "cell_type": "markdown",
   "metadata": {},
   "source": [
    "# 次回...\n",
    "\n",
    "# 6.要素に対する操作\n",
    "  - ### 6-2.要素の削除\n",
    "  \n",
    "# 4.挿入\n",
    "  - ### 4-1.行の挿入\n",
    "  - ### 4-2.列の挿入\n",
    "\n",
    "# 5.行のソート\n",
    "\n",
    "# これでPandasは最低限使えるように\n",
    "\n",
    "# Pandas操作を条件分岐・ループで扱う\n",
    "\n",
    " - if\n",
    " - switch case\n",
    " - while\n",
    " - for\n",
    " - 例外処理\n",
    " - 上記の組み合わせ\n",
    " \n",
    "# +変数のはなし "
   ]
  }
 ],
 "metadata": {
  "kernelspec": {
   "display_name": "Python 3",
   "language": "python",
   "name": "python3"
  },
  "language_info": {
   "codemirror_mode": {
    "name": "ipython",
    "version": 3
   },
   "file_extension": ".py",
   "mimetype": "text/x-python",
   "name": "python",
   "nbconvert_exporter": "python",
   "pygments_lexer": "ipython3",
   "version": "3.8.3"
  }
 },
 "nbformat": 4,
 "nbformat_minor": 4
}
